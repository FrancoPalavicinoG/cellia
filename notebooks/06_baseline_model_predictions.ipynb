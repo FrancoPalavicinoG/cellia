{
  "nbformat": 4,
  "nbformat_minor": 0,
  "metadata": {
    "colab": {
      "provenance": [],
      "authorship_tag": "ABX9TyMOXK6mFIMUCtKYZkUVVuy/",
      "include_colab_link": true
    },
    "kernelspec": {
      "name": "python3",
      "display_name": "Python 3"
    },
    "language_info": {
      "name": "python"
    }
  },
  "cells": [
    {
      "cell_type": "markdown",
      "metadata": {
        "id": "view-in-github",
        "colab_type": "text"
      },
      "source": [
        "<a href=\"https://colab.research.google.com/github/FrancoPalavicinoG/cellia/blob/main/notebooks/06_baseline_model_predictions.ipynb\" target=\"_parent\"><img src=\"https://colab.research.google.com/assets/colab-badge.svg\" alt=\"Open In Colab\"/></a>"
      ]
    },
    {
      "cell_type": "markdown",
      "source": [
        "### Load Train, Val & Test Datatsets from Google Drive"
      ],
      "metadata": {
        "id": "uvklW7uOOvV5"
      }
    },
    {
      "cell_type": "markdown",
      "source": [
        "Mount Drive"
      ],
      "metadata": {
        "id": "2BA_OylaO3lQ"
      }
    },
    {
      "cell_type": "code",
      "execution_count": 1,
      "metadata": {
        "colab": {
          "base_uri": "https://localhost:8080/"
        },
        "id": "ircFwNTsOntX",
        "outputId": "9b6eb488-5239-4669-ef31-664a31962078"
      },
      "outputs": [
        {
          "output_type": "stream",
          "name": "stdout",
          "text": [
            "Mounted at /content/drive\n"
          ]
        }
      ],
      "source": [
        "from google.colab import drive\n",
        "drive.mount('/content/drive')"
      ]
    },
    {
      "cell_type": "markdown",
      "source": [
        "Import libraries"
      ],
      "metadata": {
        "id": "S3x9GGnLPPq9"
      }
    },
    {
      "cell_type": "code",
      "source": [
        "# Core\n",
        "import pandas as pd\n",
        "import numpy as np\n",
        "\n",
        "# Models\n",
        "from sklearn.linear_model import LogisticRegression\n",
        "from sklearn.ensemble import RandomForestClassifier\n",
        "from xgboost import XGBClassifier\n",
        "from lightgbm import LGBMClassifier\n",
        "from sklearn.neural_network import MLPClassifier\n",
        "\n",
        "# Metrics\n",
        "from sklearn.metrics import roc_auc_score, f1_score, precision_score, recall_score, classification_report\n",
        "\n",
        "# Explainability\n",
        "import shap\n",
        "import matplotlib.pyplot as plt\n",
        "import seaborn as sns"
      ],
      "metadata": {
        "id": "qLOvlovjO5oC"
      },
      "execution_count": 2,
      "outputs": []
    },
    {
      "cell_type": "markdown",
      "source": [
        "Load Datasets"
      ],
      "metadata": {
        "id": "y91Tf131Pf2Z"
      }
    },
    {
      "cell_type": "code",
      "source": [
        "input_path = \"/content/drive/MyDrive/cellia_drive/Datasets/\""
      ],
      "metadata": {
        "id": "Aif9-b2XPefe"
      },
      "execution_count": 3,
      "outputs": []
    },
    {
      "cell_type": "markdown",
      "source": [
        "Load features"
      ],
      "metadata": {
        "id": "qVCF2R1ZDGDr"
      }
    },
    {
      "cell_type": "code",
      "source": [
        "X_train = pd.read_csv(input_path + \"X_train_res.csv\")\n",
        "X_val   = pd.read_csv(input_path + \"X_val_res.csv\")\n",
        "X_test  = pd.read_csv(input_path + \"X_test_res.csv\")"
      ],
      "metadata": {
        "id": "-KNFKB-Gy4Cn"
      },
      "execution_count": 4,
      "outputs": []
    },
    {
      "cell_type": "markdown",
      "source": [
        "Load labels"
      ],
      "metadata": {
        "id": "2htXY5yADKJq"
      }
    },
    {
      "cell_type": "code",
      "source": [
        "y_train = pd.read_csv(input_path + \"y_train_res.csv\").squeeze()\n",
        "y_val   = pd.read_csv(input_path + \"y_val_res.csv\").squeeze()\n",
        "y_test  = pd.read_csv(input_path + \"y_test_res.csv\").squeeze()"
      ],
      "metadata": {
        "id": "yd646piIDNX4"
      },
      "execution_count": 5,
      "outputs": []
    },
    {
      "cell_type": "code",
      "source": [
        "print(X_train.shape, y_train.shape)\n",
        "print(X_val.shape, y_val.shape)\n",
        "print(X_test.shape, y_test.shape)"
      ],
      "metadata": {
        "colab": {
          "base_uri": "https://localhost:8080/"
        },
        "id": "y7P_rwKUQTJW",
        "outputId": "a35beefc-8156-4b1a-f112-a81260674161"
      },
      "execution_count": 6,
      "outputs": [
        {
          "output_type": "stream",
          "name": "stdout",
          "text": [
            "(897, 15) (897,)\n",
            "(782, 15) (782,)\n",
            "(783, 15) (783,)\n"
          ]
        }
      ]
    },
    {
      "cell_type": "markdown",
      "source": [
        "### Load models"
      ],
      "metadata": {
        "id": "jeImK8p_SO9K"
      }
    },
    {
      "cell_type": "code",
      "source": [
        "import joblib\n",
        "\n",
        "models_files = {\n",
        "    \"Logistic_Regression\": \"/content/drive/MyDrive/cellia_drive/Models/Logistic Regression.joblib\",\n",
        "    \"Random_Forest\": \"/content/drive/MyDrive/cellia_drive/Models/Random Forest.joblib\",\n",
        "    \"LightGBM\": \"/content/drive/MyDrive/cellia_drive/Models/LightGBM.joblib\"\n",
        "}\n",
        "\n",
        "loaded_models = {name: joblib.load(path) for name, path in models_files.items()}"
      ],
      "metadata": {
        "id": "q-FzghnhS1Cr"
      },
      "execution_count": null,
      "outputs": []
    },
    {
      "cell_type": "markdown",
      "source": [
        "### Prediction Examples"
      ],
      "metadata": {
        "id": "yIVn-ahAS6Mi"
      }
    },
    {
      "cell_type": "code",
      "source": [
        "for name, model in loaded_models.items():\n",
        "    y_pred = model.predict(X_test)\n",
        "    print(f\"\\n=== {name} ===\")\n",
        "    print(classification_report(y_test, y_pred))"
      ],
      "metadata": {
        "colab": {
          "base_uri": "https://localhost:8080/"
        },
        "id": "6TWd2FmXSOV4",
        "outputId": "eaeedc90-95b8-4e75-938f-b9c77479c7e1"
      },
      "execution_count": 7,
      "outputs": [
        {
          "output_type": "stream",
          "name": "stdout",
          "text": [
            "\n",
            "=== Logistic_Regression ===\n",
            "              precision    recall  f1-score   support\n",
            "\n",
            "           0       0.97      0.76      0.85       706\n",
            "           1       0.26      0.78      0.39        77\n",
            "\n",
            "    accuracy                           0.76       783\n",
            "   macro avg       0.62      0.77      0.62       783\n",
            "weighted avg       0.90      0.76      0.81       783\n",
            "\n",
            "\n",
            "=== Random_Forest ===\n",
            "              precision    recall  f1-score   support\n",
            "\n",
            "           0       0.96      0.79      0.87       706\n",
            "           1       0.27      0.73      0.40        77\n",
            "\n",
            "    accuracy                           0.78       783\n",
            "   macro avg       0.62      0.76      0.63       783\n",
            "weighted avg       0.90      0.78      0.82       783\n",
            "\n",
            "\n",
            "=== LightGBM ===\n",
            "              precision    recall  f1-score   support\n",
            "\n",
            "           0       0.96      0.77      0.85       706\n",
            "           1       0.25      0.70      0.37        77\n",
            "\n",
            "    accuracy                           0.76       783\n",
            "   macro avg       0.60      0.74      0.61       783\n",
            "weighted avg       0.89      0.76      0.81       783\n",
            "\n"
          ]
        }
      ]
    },
    {
      "cell_type": "code",
      "source": [
        "import matplotlib.pyplot as plt\n",
        "from sklearn.metrics import confusion_matrix, ConfusionMatrixDisplay\n",
        "\n",
        "# Configurar estilo\n",
        "plt.style.use(\"seaborn-v0_8-whitegrid\")\n",
        "\n",
        "models = {\n",
        "    \"Logistic Regression\": loaded_models[\"Logistic_Regression\"],\n",
        "    \"Random Forest\": loaded_models[\"Random_Forest\"],\n",
        "    \"LightGBM\": loaded_models[\"LightGBM\"]\n",
        "}\n",
        "\n",
        "fig, axes = plt.subplots(1, 3, figsize=(18, 5))\n",
        "\n",
        "for ax, (name, model) in zip(axes, models.items()):\n",
        "    y_pred = model.predict(X_test)\n",
        "    cm = confusion_matrix(y_test, y_pred)\n",
        "    disp = ConfusionMatrixDisplay(confusion_matrix=cm, display_labels=[\"Clase 0\", \"Clase 1\"])\n",
        "    disp.plot(ax=ax, cmap=\"Blues\", colorbar=False)\n",
        "    ax.set_title(name)\n",
        "    ax.grid(False)\n",
        "\n",
        "plt.suptitle(\"Confusion Matrix -  Baseline Models\", fontsize=16, weight=\"bold\")\n",
        "plt.tight_layout()\n",
        "plt.show()"
      ],
      "metadata": {
        "colab": {
          "base_uri": "https://localhost:8080/",
          "height": 512
        },
        "id": "zXQsEzI1Tb1W",
        "outputId": "dec6b7e1-f0e5-4356-c111-b3f18553e1d0"
      },
      "execution_count": 10,
      "outputs": [
        {
          "output_type": "display_data",
          "data": {
            "text/plain": [
              "<Figure size 1800x500 with 3 Axes>"
            ],
            "image/png": "[encoded data removed]"
          },
          "metadata": {}
        }
      ]
    }
  ]
}