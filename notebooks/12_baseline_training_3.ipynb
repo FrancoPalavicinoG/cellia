{
  "nbformat": 4,
  "nbformat_minor": 0,
  "metadata": {
    "colab": {
      "provenance": [],
      "collapsed_sections": [
        "uvklW7uOOvV5",
        "SuoPLuQS0MkF",
        "vfme8HvI1ih_",
        "UcAevRqa12rn"
      ],
      "gpuType": "T4",
      "authorship_tag": "ABX9TyNoS+NldFoOoG7NjTW8Tvmr",
      "include_colab_link": true
    },
    "kernelspec": {
      "name": "python3",
      "display_name": "Python 3"
    },
    "language_info": {
      "name": "python"
    },
    "accelerator": "GPU"
  },
  "cells": [
    {
      "cell_type": "markdown",
      "metadata": {
        "id": "view-in-github",
        "colab_type": "text"
      },
      "source": [
        "<a href=\"https://colab.research.google.com/github/FrancoPalavicinoG/cellia/blob/main/notebooks/12_baseline_training_3.ipynb\" target=\"_parent\"><img src=\"https://colab.research.google.com/assets/colab-badge.svg\" alt=\"Open In Colab\"/></a>"
      ]
    },
    {
      "cell_type": "markdown",
      "source": [
        "### Load Train, Val & Test Datatsets from Google Drive"
      ],
      "metadata": {
        "id": "uvklW7uOOvV5"
      }
    },
    {
      "cell_type": "markdown",
      "source": [
        "Mount Drive"
      ],
      "metadata": {
        "id": "2BA_OylaO3lQ"
      }
    },
    {
      "cell_type": "code",
      "execution_count": 1,
      "metadata": {
        "colab": {
          "base_uri": "https://localhost:8080/"
        },
        "id": "ircFwNTsOntX",
        "outputId": "b5011259-0d21-4b74-beda-c91d56c3aaf7"
      },
      "outputs": [
        {
          "output_type": "stream",
          "name": "stdout",
          "text": [
            "Mounted at /content/drive\n"
          ]
        }
      ],
      "source": [
        "from google.colab import drive\n",
        "drive.mount('/content/drive')"
      ]
    },
    {
      "cell_type": "markdown",
      "source": [
        "Import libraries"
      ],
      "metadata": {
        "id": "S3x9GGnLPPq9"
      }
    },
    {
      "cell_type": "code",
      "source": [
        "# Core\n",
        "import pandas as pd\n",
        "import numpy as np\n",
        "\n",
        "# Models\n",
        "from sklearn.linear_model import LogisticRegression\n",
        "from sklearn.ensemble import RandomForestClassifier\n",
        "from xgboost import XGBClassifier\n",
        "from lightgbm import LGBMClassifier\n",
        "from sklearn.neural_network import MLPClassifier\n",
        "\n",
        "# Metrics\n",
        "from sklearn.metrics import roc_auc_score, f1_score, precision_score, recall_score, classification_report\n",
        "\n",
        "# Explainability\n",
        "import shap\n",
        "import matplotlib.pyplot as plt\n",
        "import seaborn as sns"
      ],
      "metadata": {
        "id": "qLOvlovjO5oC"
      },
      "execution_count": 2,
      "outputs": []
    },
    {
      "cell_type": "markdown",
      "source": [
        "Load Datasets"
      ],
      "metadata": {
        "id": "y91Tf131Pf2Z"
      }
    },
    {
      "cell_type": "code",
      "source": [
        "input_path = \"/content/drive/MyDrive/cellia_drive/Datasets/\""
      ],
      "metadata": {
        "id": "Aif9-b2XPefe"
      },
      "execution_count": 3,
      "outputs": []
    },
    {
      "cell_type": "markdown",
      "source": [
        "Load features"
      ],
      "metadata": {
        "id": "qVCF2R1ZDGDr"
      }
    },
    {
      "cell_type": "code",
      "source": [
        "X_train = pd.read_csv(input_path + \"X_train_v2.csv\")\n",
        "X_val   = pd.read_csv(input_path + \"X_val_v2.csv\")\n",
        "X_test  = pd.read_csv(input_path + \"X_test_v2.csv\")"
      ],
      "metadata": {
        "id": "-KNFKB-Gy4Cn"
      },
      "execution_count": 4,
      "outputs": []
    },
    {
      "cell_type": "markdown",
      "source": [
        "Load labels"
      ],
      "metadata": {
        "id": "2htXY5yADKJq"
      }
    },
    {
      "cell_type": "code",
      "source": [
        "y_train = pd.read_csv(input_path + \"y_train_v2.csv\").squeeze()\n",
        "y_val   = pd.read_csv(input_path + \"y_val_v2.csv\").squeeze()\n",
        "y_test  = pd.read_csv(input_path + \"y_test_v2.csv\").squeeze()"
      ],
      "metadata": {
        "id": "yd646piIDNX4"
      },
      "execution_count": 5,
      "outputs": []
    },
    {
      "cell_type": "code",
      "source": [
        "print(X_train.shape, y_train.shape)\n",
        "print(X_val.shape, y_val.shape)\n",
        "print(X_test.shape, y_test.shape)"
      ],
      "metadata": {
        "colab": {
          "base_uri": "https://localhost:8080/"
        },
        "id": "y7P_rwKUQTJW",
        "outputId": "a06cf9c1-03fb-49c3-da0a-e0883b64cb4e"
      },
      "execution_count": 6,
      "outputs": [
        {
          "output_type": "stream",
          "name": "stdout",
          "text": [
            "(49000, 36) (49000,)\n",
            "(10500, 36) (10500,)\n",
            "(10500, 36) (10500,)\n"
          ]
        }
      ]
    },
    {
      "cell_type": "markdown",
      "source": [
        "### Evaluation function"
      ],
      "metadata": {
        "id": "SuoPLuQS0MkF"
      }
    },
    {
      "cell_type": "code",
      "source": [
        "def evaluate_model(model, X, y_true, dataset_name=\"Validation\"):\n",
        "    y_pred = model.predict(X)\n",
        "    y_proba = model.predict_proba(X)[:, 1]\n",
        "\n",
        "    roc_auc = roc_auc_score(y_true, y_proba)\n",
        "    f1 = f1_score(y_true, y_pred)\n",
        "    precision = precision_score(y_true, y_pred)\n",
        "    recall = recall_score(y_true, y_pred)\n",
        "\n",
        "    print(f\"{dataset_name} Results:\")\n",
        "    print(f\"ROC-AUC: {roc_auc:.3f} | F1: {f1:.3f} | Precision: {precision:.3f} | Recall: {recall:.3f}\")\n",
        "    print(\"-\" * 60)\n",
        "\n",
        "    return {\"roc_auc\": roc_auc, \"f1\": f1, \"precision\": precision, \"recall\": recall}"
      ],
      "metadata": {
        "id": "nlg-COuf0a8F"
      },
      "execution_count": 7,
      "outputs": []
    },
    {
      "cell_type": "markdown",
      "source": [
        "## Model Training"
      ],
      "metadata": {
        "id": "gCiU-kjH1B7n"
      }
    },
    {
      "cell_type": "markdown",
      "source": [
        "### Logistic Regression (Baseline)"
      ],
      "metadata": {
        "id": "WYaPi9vu1FVi"
      }
    },
    {
      "cell_type": "code",
      "source": [
        "log_reg = LogisticRegression(\n",
        "    max_iter=500,          # iteration numbers\n",
        "    random_state=42,\n",
        "    class_weight='balanced',  # class balancing\n",
        "    C=1.0,                 # regularization\n",
        "    penalty='l2',          # penalty type: 'l1', 'l2', 'elasticnet'\n",
        "    solver='liblinear'     # solver compatible with the penalty\n",
        ")\n"
      ],
      "metadata": {
        "id": "n-lQdbTv1H9h"
      },
      "execution_count": 8,
      "outputs": []
    },
    {
      "cell_type": "markdown",
      "source": [
        "### Random Forest"
      ],
      "metadata": {
        "id": "xFIemzd11Zm-"
      }
    },
    {
      "cell_type": "code",
      "source": [
        "rf = RandomForestClassifier(\n",
        "    n_estimators=300,      # number of trees\n",
        "    max_depth=10,          # maximum depth of each tree\n",
        "    min_samples_split=2,   # minimum samples to split a node\n",
        "    min_samples_leaf=1,    # minimum samples per leaf\n",
        "    max_features='sqrt',   # number of features to consider per split\n",
        "    random_state=42,\n",
        "    class_weight='balanced'\n",
        ")\n"
      ],
      "metadata": {
        "id": "ih87ewmj1bDE"
      },
      "execution_count": 9,
      "outputs": []
    },
    {
      "cell_type": "markdown",
      "source": [
        "### XGBoost"
      ],
      "metadata": {
        "id": "vfme8HvI1ih_"
      }
    },
    {
      "cell_type": "code",
      "source": [
        "xgb = XGBClassifier(\n",
        "    n_estimators=300,\n",
        "    learning_rate=0.05,\n",
        "    max_depth=6,\n",
        "    subsample=0.8,\n",
        "    colsample_bytree=0.8,\n",
        "    random_state=42,\n",
        "    eval_metric='logloss'\n",
        ")"
      ],
      "metadata": {
        "id": "28UwHGaO1iIS"
      },
      "execution_count": 10,
      "outputs": []
    },
    {
      "cell_type": "markdown",
      "source": [
        "### LightGBM"
      ],
      "metadata": {
        "id": "UXQjOjWF1s3w"
      }
    },
    {
      "cell_type": "code",
      "source": [
        "lgbm = LGBMClassifier(\n",
        "    n_estimators=300,      # number of iterations\n",
        "    max_depth=6,           # maximum tree depth\n",
        "    num_leaves=31,         # leaves per tree\n",
        "    learning_rate=0.05,    # learning rate\n",
        "    min_child_samples=20,  # minimum samples per leaf node\n",
        "    subsample=0.8,         # fraction of data per tree\n",
        "    colsample_bytree=0.8,  # fraction of features per tree\n",
        "    random_state=42,\n",
        "    scale_pos_weight=1     # class balancing if not using SMOTE\n",
        ")"
      ],
      "metadata": {
        "collapsed": true,
        "id": "AWJbUWgK1qro"
      },
      "execution_count": 11,
      "outputs": []
    },
    {
      "cell_type": "markdown",
      "source": [
        "### MLP Tabular"
      ],
      "metadata": {
        "id": "UcAevRqa12rn"
      }
    },
    {
      "cell_type": "code",
      "source": [
        "mlp = MLPClassifier(hidden_layer_sizes=(64, 32), max_iter=300, random_state=42)"
      ],
      "metadata": {
        "id": "_KiaY_hU14LJ"
      },
      "execution_count": 12,
      "outputs": []
    },
    {
      "cell_type": "markdown",
      "source": [
        "### Train models"
      ],
      "metadata": {
        "id": "FZD50MJxrGCA"
      }
    },
    {
      "cell_type": "code",
      "source": [
        "models = {\"Logistic Regression\": log_reg,\n",
        "          \"Random Forest\": rf,\n",
        "          \"LightGBM\": lgbm,\n",
        "          \"MLP\": mlp,\n",
        "          \"XGBoost\": xgb}\n",
        "\n",
        "results = {}\n",
        "\n",
        "for name, model in models.items():\n",
        "    print(f\"Training {name}...\")\n",
        "    model.fit(X_train, y_train)\n",
        "    results[name] = evaluate_model(model, X_val, y_val, f\"Validation ({name})\")"
      ],
      "metadata": {
        "colab": {
          "base_uri": "https://localhost:8080/"
        },
        "id": "doeZSaiRrIfx",
        "outputId": "6766ef58-2e9d-4297-b43d-da4cbf554d70"
      },
      "execution_count": 13,
      "outputs": [
        {
          "output_type": "stream",
          "name": "stdout",
          "text": [
            "Training Logistic Regression...\n",
            "Validation (Logistic Regression) Results:\n",
            "ROC-AUC: 0.781 | F1: 0.699 | Precision: 0.742 | Recall: 0.660\n",
            "------------------------------------------------------------\n",
            "Training Random Forest...\n",
            "Validation (Random Forest) Results:\n",
            "ROC-AUC: 0.799 | F1: 0.717 | Precision: 0.754 | Recall: 0.684\n",
            "------------------------------------------------------------\n",
            "Training LightGBM...\n",
            "[LightGBM] [Info] Number of positive: 24485, number of negative: 24515\n",
            "[LightGBM] [Info] Auto-choosing col-wise multi-threading, the overhead of testing was 0.025186 seconds.\n",
            "You can set `force_col_wise=true` to remove the overhead.\n",
            "[LightGBM] [Info] Total Bins 5108\n",
            "[LightGBM] [Info] Number of data points in the train set: 49000, number of used features: 36\n",
            "[LightGBM] [Info] [binary:BoostFromScore]: pavg=0.499694 -> initscore=-0.001224\n",
            "[LightGBM] [Info] Start training from score -0.001224\n",
            "[LightGBM] [Warning] No further splits with positive gain, best gain: -inf\n",
            "[LightGBM] [Warning] No further splits with positive gain, best gain: -inf\n",
            "[LightGBM] [Warning] No further splits with positive gain, best gain: -inf\n",
            "[LightGBM] [Warning] No further splits with positive gain, best gain: -inf\n",
            "[LightGBM] [Warning] No further splits with positive gain, best gain: -inf\n",
            "[LightGBM] [Warning] No further splits with positive gain, best gain: -inf\n",
            "[LightGBM] [Warning] No further splits with positive gain, best gain: -inf\n",
            "[LightGBM] [Warning] No further splits with positive gain, best gain: -inf\n",
            "[LightGBM] [Warning] No further splits with positive gain, best gain: -inf\n",
            "[LightGBM] [Warning] No further splits with positive gain, best gain: -inf\n",
            "[LightGBM] [Warning] No further splits with positive gain, best gain: -inf\n",
            "[LightGBM] [Warning] No further splits with positive gain, best gain: -inf\n",
            "[LightGBM] [Warning] No further splits with positive gain, best gain: -inf\n",
            "[LightGBM] [Warning] No further splits with positive gain, best gain: -inf\n",
            "[LightGBM] [Warning] No further splits with positive gain, best gain: -inf\n",
            "[LightGBM] [Warning] No further splits with positive gain, best gain: -inf\n",
            "[LightGBM] [Warning] No further splits with positive gain, best gain: -inf\n",
            "[LightGBM] [Warning] No further splits with positive gain, best gain: -inf\n",
            "[LightGBM] [Warning] No further splits with positive gain, best gain: -inf\n",
            "[LightGBM] [Warning] No further splits with positive gain, best gain: -inf\n",
            "[LightGBM] [Warning] No further splits with positive gain, best gain: -inf\n",
            "[LightGBM] [Warning] No further splits with positive gain, best gain: -inf\n",
            "[LightGBM] [Warning] No further splits with positive gain, best gain: -inf\n",
            "[LightGBM] [Warning] No further splits with positive gain, best gain: -inf\n",
            "[LightGBM] [Warning] No further splits with positive gain, best gain: -inf\n",
            "[LightGBM] [Warning] No further splits with positive gain, best gain: -inf\n",
            "[LightGBM] [Warning] No further splits with positive gain, best gain: -inf\n",
            "[LightGBM] [Warning] No further splits with positive gain, best gain: -inf\n",
            "[LightGBM] [Warning] No further splits with positive gain, best gain: -inf\n",
            "[LightGBM] [Warning] No further splits with positive gain, best gain: -inf\n",
            "[LightGBM] [Warning] No further splits with positive gain, best gain: -inf\n",
            "[LightGBM] [Warning] No further splits with positive gain, best gain: -inf\n",
            "[LightGBM] [Warning] No further splits with positive gain, best gain: -inf\n",
            "[LightGBM] [Warning] No further splits with positive gain, best gain: -inf\n",
            "[LightGBM] [Warning] No further splits with positive gain, best gain: -inf\n",
            "[LightGBM] [Warning] No further splits with positive gain, best gain: -inf\n",
            "[LightGBM] [Warning] No further splits with positive gain, best gain: -inf\n",
            "[LightGBM] [Warning] No further splits with positive gain, best gain: -inf\n",
            "[LightGBM] [Warning] No further splits with positive gain, best gain: -inf\n",
            "[LightGBM] [Warning] No further splits with positive gain, best gain: -inf\n",
            "[LightGBM] [Warning] No further splits with positive gain, best gain: -inf\n",
            "[LightGBM] [Warning] No further splits with positive gain, best gain: -inf\n",
            "[LightGBM] [Warning] No further splits with positive gain, best gain: -inf\n",
            "[LightGBM] [Warning] No further splits with positive gain, best gain: -inf\n",
            "[LightGBM] [Warning] No further splits with positive gain, best gain: -inf\n",
            "[LightGBM] [Warning] No further splits with positive gain, best gain: -inf\n",
            "[LightGBM] [Warning] No further splits with positive gain, best gain: -inf\n",
            "[LightGBM] [Warning] No further splits with positive gain, best gain: -inf\n",
            "[LightGBM] [Warning] No further splits with positive gain, best gain: -inf\n",
            "[LightGBM] [Warning] No further splits with positive gain, best gain: -inf\n",
            "[LightGBM] [Warning] No further splits with positive gain, best gain: -inf\n",
            "[LightGBM] [Warning] No further splits with positive gain, best gain: -inf\n",
            "[LightGBM] [Warning] No further splits with positive gain, best gain: -inf\n",
            "[LightGBM] [Warning] No further splits with positive gain, best gain: -inf\n",
            "[LightGBM] [Warning] No further splits with positive gain, best gain: -inf\n",
            "[LightGBM] [Warning] No further splits with positive gain, best gain: -inf\n",
            "[LightGBM] [Warning] No further splits with positive gain, best gain: -inf\n",
            "[LightGBM] [Warning] No further splits with positive gain, best gain: -inf\n",
            "[LightGBM] [Warning] No further splits with positive gain, best gain: -inf\n",
            "[LightGBM] [Warning] No further splits with positive gain, best gain: -inf\n",
            "[LightGBM] [Warning] No further splits with positive gain, best gain: -inf\n",
            "[LightGBM] [Warning] No further splits with positive gain, best gain: -inf\n",
            "[LightGBM] [Warning] No further splits with positive gain, best gain: -inf\n",
            "[LightGBM] [Warning] No further splits with positive gain, best gain: -inf\n",
            "[LightGBM] [Warning] No further splits with positive gain, best gain: -inf\n",
            "[LightGBM] [Warning] No further splits with positive gain, best gain: -inf\n",
            "[LightGBM] [Warning] No further splits with positive gain, best gain: -inf\n",
            "Validation (LightGBM) Results:\n",
            "ROC-AUC: 0.801 | F1: 0.722 | Precision: 0.751 | Recall: 0.694\n",
            "------------------------------------------------------------\n",
            "Training MLP...\n",
            "Validation (MLP) Results:\n",
            "ROC-AUC: 0.729 | F1: 0.695 | Precision: 0.602 | Recall: 0.824\n",
            "------------------------------------------------------------\n",
            "Training XGBoost...\n",
            "Validation (XGBoost) Results:\n",
            "ROC-AUC: 0.801 | F1: 0.721 | Precision: 0.751 | Recall: 0.693\n",
            "------------------------------------------------------------\n"
          ]
        }
      ]
    },
    {
      "cell_type": "markdown",
      "source": [
        "### Compare models"
      ],
      "metadata": {
        "id": "x4jdGjRW2Cbb"
      }
    },
    {
      "cell_type": "code",
      "source": [
        "models = {\"Logistic Regression\": log_reg,\n",
        "          \"Random Forest\": rf,\n",
        "          \"LightGBM\": lgbm,\n",
        "          \"MLP\": mlp,\n",
        "          \"XGBoost\": xgb}\n",
        "\n",
        "results = {}\n",
        "for name, model in models.items():\n",
        "    results[name] = evaluate_model(model, X_val, y_val, f\"Validation ({name})\")\n",
        "\n",
        "results_df = pd.DataFrame(results).T\n",
        "results_df.sort_values(\"roc_auc\", ascending=False)"
      ],
      "metadata": {
        "colab": {
          "base_uri": "https://localhost:8080/",
          "height": 466
        },
        "id": "wfUltpKO2HkX",
        "outputId": "3bb234cc-72f5-47ba-f59f-4bb11e3de6fa"
      },
      "execution_count": 14,
      "outputs": [
        {
          "output_type": "stream",
          "name": "stdout",
          "text": [
            "Validation (Logistic Regression) Results:\n",
            "ROC-AUC: 0.781 | F1: 0.699 | Precision: 0.742 | Recall: 0.660\n",
            "------------------------------------------------------------\n",
            "Validation (Random Forest) Results:\n",
            "ROC-AUC: 0.799 | F1: 0.717 | Precision: 0.754 | Recall: 0.684\n",
            "------------------------------------------------------------\n",
            "Validation (LightGBM) Results:\n",
            "ROC-AUC: 0.801 | F1: 0.722 | Precision: 0.751 | Recall: 0.694\n",
            "------------------------------------------------------------\n",
            "Validation (MLP) Results:\n",
            "ROC-AUC: 0.729 | F1: 0.695 | Precision: 0.602 | Recall: 0.824\n",
            "------------------------------------------------------------\n",
            "Validation (XGBoost) Results:\n",
            "ROC-AUC: 0.801 | F1: 0.721 | Precision: 0.751 | Recall: 0.693\n",
            "------------------------------------------------------------\n"
          ]
        },
        {
          "output_type": "execute_result",
          "data": {
            "text/plain": [
              "                      roc_auc        f1  precision    recall\n",
              "LightGBM             0.800858  0.721743   0.751444  0.694302\n",
              "XGBoost              0.800846  0.721110   0.751187  0.693349\n",
              "Random Forest        0.798789  0.717170   0.753940  0.683819\n",
              "Logistic Regression  0.781375  0.698941   0.742288  0.660377\n",
              "MLP                  0.729167  0.695463   0.601670  0.823899"
            ],
            "text/html": [
              "\n",
              "  <div id=\"df-3cfa7f02-4b2c-4ed8-a6dd-23f69d3a592a\" class=\"colab-df-container\">\n",
              "    <div>\n",
              "<style scoped>\n",
              "    .dataframe tbody tr th:only-of-type {\n",
              "        vertical-align: middle;\n",
              "    }\n",
              "\n",
              "    .dataframe tbody tr th {\n",
              "        vertical-align: top;\n",
              "    }\n",
              "\n",
              "    .dataframe thead th {\n",
              "        text-align: right;\n",
              "    }\n",
              "</style>\n",
              "<table border=\"1\" class=\"dataframe\">\n",
              "  <thead>\n",
              "    <tr style=\"text-align: right;\">\n",
              "      <th></th>\n",
              "      <th>roc_auc</th>\n",
              "      <th>f1</th>\n",
              "      <th>precision</th>\n",
              "      <th>recall</th>\n",
              "    </tr>\n",
              "  </thead>\n",
              "  <tbody>\n",
              "    <tr>\n",
              "      <th>LightGBM</th>\n",
              "      <td>0.800858</td>\n",
              "      <td>0.721743</td>\n",
              "      <td>0.751444</td>\n",
              "      <td>0.694302</td>\n",
              "    </tr>\n",
              "    <tr>\n",
              "      <th>XGBoost</th>\n",
              "      <td>0.800846</td>\n",
              "      <td>0.721110</td>\n",
              "      <td>0.751187</td>\n",
              "      <td>0.693349</td>\n",
              "    </tr>\n",
              "    <tr>\n",
              "      <th>Random Forest</th>\n",
              "      <td>0.798789</td>\n",
              "      <td>0.717170</td>\n",
              "      <td>0.753940</td>\n",
              "      <td>0.683819</td>\n",
              "    </tr>\n",
              "    <tr>\n",
              "      <th>Logistic Regression</th>\n",
              "      <td>0.781375</td>\n",
              "      <td>0.698941</td>\n",
              "      <td>0.742288</td>\n",
              "      <td>0.660377</td>\n",
              "    </tr>\n",
              "    <tr>\n",
              "      <th>MLP</th>\n",
              "      <td>0.729167</td>\n",
              "      <td>0.695463</td>\n",
              "      <td>0.601670</td>\n",
              "      <td>0.823899</td>\n",
              "    </tr>\n",
              "  </tbody>\n",
              "</table>\n",
              "</div>\n",
              "    <div class=\"colab-df-buttons\">\n",
              "\n",
              "  <div class=\"colab-df-container\">\n",
              "    <button class=\"colab-df-convert\" onclick=\"convertToInteractive('df-3cfa7f02-4b2c-4ed8-a6dd-23f69d3a592a')\"\n",
              "            title=\"Convert this dataframe to an interactive table.\"\n",
              "            style=\"display:none;\">\n",
              "\n",
              "  <svg xmlns=\"http://www.w3.org/2000/svg\" height=\"24px\" viewBox=\"0 -960 960 960\">\n",
              "    <path d=\"M120-120v-720h720v720H120Zm60-500h600v-160H180v160Zm220 220h160v-160H400v160Zm0 220h160v-160H400v160ZM180-400h160v-160H180v160Zm440 0h160v-160H620v160ZM180-180h160v-160H180v160Zm440 0h160v-160H620v160Z\"/>\n",
              "  </svg>\n",
              "    </button>\n",
              "\n",
              "  <style>\n",
              "    .colab-df-container {\n",
              "      display:flex;\n",
              "      gap: 12px;\n",
              "    }\n",
              "\n",
              "    .colab-df-convert {\n",
              "      background-color: #E8F0FE;\n",
              "      border: none;\n",
              "      border-radius: 50%;\n",
              "      cursor: pointer;\n",
              "      display: none;\n",
              "      fill: #1967D2;\n",
              "      height: 32px;\n",
              "      padding: 0 0 0 0;\n",
              "      width: 32px;\n",
              "    }\n",
              "\n",
              "    .colab-df-convert:hover {\n",
              "      background-color: #E2EBFA;\n",
              "      box-shadow: 0px 1px 2px rgba(60, 64, 67, 0.3), 0px 1px 3px 1px rgba(60, 64, 67, 0.15);\n",
              "      fill: #174EA6;\n",
              "    }\n",
              "\n",
              "    .colab-df-buttons div {\n",
              "      margin-bottom: 4px;\n",
              "    }\n",
              "\n",
              "    [theme=dark] .colab-df-convert {\n",
              "      background-color: #3B4455;\n",
              "      fill: #D2E3FC;\n",
              "    }\n",
              "\n",
              "    [theme=dark] .colab-df-convert:hover {\n",
              "      background-color: #434B5C;\n",
              "      box-shadow: 0px 1px 3px 1px rgba(0, 0, 0, 0.15);\n",
              "      filter: drop-shadow(0px 1px 2px rgba(0, 0, 0, 0.3));\n",
              "      fill: #FFFFFF;\n",
              "    }\n",
              "  </style>\n",
              "\n",
              "    <script>\n",
              "      const buttonEl =\n",
              "        document.querySelector('#df-3cfa7f02-4b2c-4ed8-a6dd-23f69d3a592a button.colab-df-convert');\n",
              "      buttonEl.style.display =\n",
              "        google.colab.kernel.accessAllowed ? 'block' : 'none';\n",
              "\n",
              "      async function convertToInteractive(key) {\n",
              "        const element = document.querySelector('#df-3cfa7f02-4b2c-4ed8-a6dd-23f69d3a592a');\n",
              "        const dataTable =\n",
              "          await google.colab.kernel.invokeFunction('convertToInteractive',\n",
              "                                                    [key], {});\n",
              "        if (!dataTable) return;\n",
              "\n",
              "        const docLinkHtml = 'Like what you see? Visit the ' +\n",
              "          '<a target=\"_blank\" href=https://colab.research.google.com/notebooks/data_table.ipynb>data table notebook</a>'\n",
              "          + ' to learn more about interactive tables.';\n",
              "        element.innerHTML = '';\n",
              "        dataTable['output_type'] = 'display_data';\n",
              "        await google.colab.output.renderOutput(dataTable, element);\n",
              "        const docLink = document.createElement('div');\n",
              "        docLink.innerHTML = docLinkHtml;\n",
              "        element.appendChild(docLink);\n",
              "      }\n",
              "    </script>\n",
              "  </div>\n",
              "\n",
              "\n",
              "    <div id=\"df-57b2297a-50d2-4e57-a5d9-2af90e0c22db\">\n",
              "      <button class=\"colab-df-quickchart\" onclick=\"quickchart('df-57b2297a-50d2-4e57-a5d9-2af90e0c22db')\"\n",
              "                title=\"Suggest charts\"\n",
              "                style=\"display:none;\">\n",
              "\n",
              "<svg xmlns=\"http://www.w3.org/2000/svg\" height=\"24px\"viewBox=\"0 0 24 24\"\n",
              "     width=\"24px\">\n",
              "    <g>\n",
              "        <path d=\"M19 3H5c-1.1 0-2 .9-2 2v14c0 1.1.9 2 2 2h14c1.1 0 2-.9 2-2V5c0-1.1-.9-2-2-2zM9 17H7v-7h2v7zm4 0h-2V7h2v10zm4 0h-2v-4h2v4z\"/>\n",
              "    </g>\n",
              "</svg>\n",
              "      </button>\n",
              "\n",
              "<style>\n",
              "  .colab-df-quickchart {\n",
              "      --bg-color: #E8F0FE;\n",
              "      --fill-color: #1967D2;\n",
              "      --hover-bg-color: #E2EBFA;\n",
              "      --hover-fill-color: #174EA6;\n",
              "      --disabled-fill-color: #AAA;\n",
              "      --disabled-bg-color: #DDD;\n",
              "  }\n",
              "\n",
              "  [theme=dark] .colab-df-quickchart {\n",
              "      --bg-color: #3B4455;\n",
              "      --fill-color: #D2E3FC;\n",
              "      --hover-bg-color: #434B5C;\n",
              "      --hover-fill-color: #FFFFFF;\n",
              "      --disabled-bg-color: #3B4455;\n",
              "      --disabled-fill-color: #666;\n",
              "  }\n",
              "\n",
              "  .colab-df-quickchart {\n",
              "    background-color: var(--bg-color);\n",
              "    border: none;\n",
              "    border-radius: 50%;\n",
              "    cursor: pointer;\n",
              "    display: none;\n",
              "    fill: var(--fill-color);\n",
              "    height: 32px;\n",
              "    padding: 0;\n",
              "    width: 32px;\n",
              "  }\n",
              "\n",
              "  .colab-df-quickchart:hover {\n",
              "    background-color: var(--hover-bg-color);\n",
              "    box-shadow: 0 1px 2px rgba(60, 64, 67, 0.3), 0 1px 3px 1px rgba(60, 64, 67, 0.15);\n",
              "    fill: var(--button-hover-fill-color);\n",
              "  }\n",
              "\n",
              "  .colab-df-quickchart-complete:disabled,\n",
              "  .colab-df-quickchart-complete:disabled:hover {\n",
              "    background-color: var(--disabled-bg-color);\n",
              "    fill: var(--disabled-fill-color);\n",
              "    box-shadow: none;\n",
              "  }\n",
              "\n",
              "  .colab-df-spinner {\n",
              "    border: 2px solid var(--fill-color);\n",
              "    border-color: transparent;\n",
              "    border-bottom-color: var(--fill-color);\n",
              "    animation:\n",
              "      spin 1s steps(1) infinite;\n",
              "  }\n",
              "\n",
              "  @keyframes spin {\n",
              "    0% {\n",
              "      border-color: transparent;\n",
              "      border-bottom-color: var(--fill-color);\n",
              "      border-left-color: var(--fill-color);\n",
              "    }\n",
              "    20% {\n",
              "      border-color: transparent;\n",
              "      border-left-color: var(--fill-color);\n",
              "      border-top-color: var(--fill-color);\n",
              "    }\n",
              "    30% {\n",
              "      border-color: transparent;\n",
              "      border-left-color: var(--fill-color);\n",
              "      border-top-color: var(--fill-color);\n",
              "      border-right-color: var(--fill-color);\n",
              "    }\n",
              "    40% {\n",
              "      border-color: transparent;\n",
              "      border-right-color: var(--fill-color);\n",
              "      border-top-color: var(--fill-color);\n",
              "    }\n",
              "    60% {\n",
              "      border-color: transparent;\n",
              "      border-right-color: var(--fill-color);\n",
              "    }\n",
              "    80% {\n",
              "      border-color: transparent;\n",
              "      border-right-color: var(--fill-color);\n",
              "      border-bottom-color: var(--fill-color);\n",
              "    }\n",
              "    90% {\n",
              "      border-color: transparent;\n",
              "      border-bottom-color: var(--fill-color);\n",
              "    }\n",
              "  }\n",
              "</style>\n",
              "\n",
              "      <script>\n",
              "        async function quickchart(key) {\n",
              "          const quickchartButtonEl =\n",
              "            document.querySelector('#' + key + ' button');\n",
              "          quickchartButtonEl.disabled = true;  // To prevent multiple clicks.\n",
              "          quickchartButtonEl.classList.add('colab-df-spinner');\n",
              "          try {\n",
              "            const charts = await google.colab.kernel.invokeFunction(\n",
              "                'suggestCharts', [key], {});\n",
              "          } catch (error) {\n",
              "            console.error('Error during call to suggestCharts:', error);\n",
              "          }\n",
              "          quickchartButtonEl.classList.remove('colab-df-spinner');\n",
              "          quickchartButtonEl.classList.add('colab-df-quickchart-complete');\n",
              "        }\n",
              "        (() => {\n",
              "          let quickchartButtonEl =\n",
              "            document.querySelector('#df-57b2297a-50d2-4e57-a5d9-2af90e0c22db button');\n",
              "          quickchartButtonEl.style.display =\n",
              "            google.colab.kernel.accessAllowed ? 'block' : 'none';\n",
              "        })();\n",
              "      </script>\n",
              "    </div>\n",
              "\n",
              "    </div>\n",
              "  </div>\n"
            ],
            "application/vnd.google.colaboratory.intrinsic+json": {
              "type": "dataframe",
              "summary": "{\n  \"name\": \"results_df\",\n  \"rows\": 5,\n  \"fields\": [\n    {\n      \"column\": \"roc_auc\",\n      \"properties\": {\n        \"dtype\": \"number\",\n        \"std\": 0.03075746003774706,\n        \"min\": 0.729167458050145,\n        \"max\": 0.8008575132051744,\n        \"num_unique_values\": 5,\n        \"samples\": [\n          0.8008459213646546,\n          0.729167458050145,\n          0.7987885782892411\n        ],\n        \"semantic_type\": \"\",\n        \"description\": \"\"\n      }\n    },\n    {\n      \"column\": \"f1\",\n      \"properties\": {\n        \"dtype\": \"number\",\n        \"std\": 0.01267321280437689,\n        \"min\": 0.6954633204633205,\n        \"max\": 0.7217434373452204,\n        \"num_unique_values\": 5,\n        \"samples\": [\n          0.7211100099108028,\n          0.6954633204633205,\n          0.7171696981810913\n        ],\n        \"semantic_type\": \"\",\n        \"description\": \"\"\n      }\n    },\n    {\n      \"column\": \"precision\",\n      \"properties\": {\n        \"dtype\": \"number\",\n        \"std\": 0.06635497645040708,\n        \"min\": 0.601670146137787,\n        \"max\": 0.753939903341038,\n        \"num_unique_values\": 5,\n        \"samples\": [\n          0.7511872806111914,\n          0.601670146137787,\n          0.753939903341038\n        ],\n        \"semantic_type\": \"\",\n        \"description\": \"\"\n      }\n    },\n    {\n      \"column\": \"recall\",\n      \"properties\": {\n        \"dtype\": \"number\",\n        \"std\": 0.06449420495118133,\n        \"min\": 0.660377358490566,\n        \"max\": 0.8238993710691824,\n        \"num_unique_values\": 5,\n        \"samples\": [\n          0.693348580141033,\n          0.8238993710691824,\n          0.6838193253287593\n        ],\n        \"semantic_type\": \"\",\n        \"description\": \"\"\n      }\n    }\n  ]\n}"
            }
          },
          "metadata": {},
          "execution_count": 14
        }
      ]
    },
    {
      "cell_type": "markdown",
      "source": [
        "## Hyperparameter Tuning using RandomizedSearchCV"
      ],
      "metadata": {
        "id": "60rcgjLYAl7e"
      }
    },
    {
      "cell_type": "code",
      "source": [
        "from sklearn.model_selection import RandomizedSearchCV\n",
        "from sklearn.linear_model import LogisticRegression\n",
        "from sklearn.ensemble import RandomForestClassifier\n",
        "from lightgbm import LGBMClassifier\n",
        "from xgboost import XGBClassifier\n",
        "from scipy.stats import uniform, randint\n",
        "import numpy as np\n",
        "\n",
        "# ---------------------------\n",
        "# Logistic Regression\n",
        "# ---------------------------\n",
        "logreg = LogisticRegression(max_iter=1000, random_state=42)\n",
        "\n",
        "logreg_param_dist = {\n",
        "    'C': uniform(0.01, 10),\n",
        "    'penalty': ['l2'],\n",
        "    'solver': ['liblinear', 'saga'],\n",
        "    'class_weight': [None, 'balanced']\n",
        "}\n",
        "\n",
        "logreg_search = RandomizedSearchCV(\n",
        "    logreg,\n",
        "    param_distributions=logreg_param_dist,\n",
        "    n_iter=5,\n",
        "    scoring='f1',\n",
        "    cv=5,\n",
        "    verbose=2,\n",
        "    random_state=42,\n",
        "    n_jobs=-1\n",
        ")\n",
        "\n",
        "logreg_search.fit(X_train, y_train)\n",
        "print(\"Best Logistic Regression params:\", logreg_search.best_params_)\n",
        "print(\"Best F1:\", logreg_search.best_score_)\n",
        "\n",
        "# ---------------------------\n",
        "# Random Forest\n",
        "# ---------------------------\n",
        "rf = RandomForestClassifier(random_state=42)\n",
        "\n",
        "rf_param_dist = {\n",
        "    'n_estimators': randint(200, 1000),\n",
        "    'max_depth': randint(5, 20),\n",
        "    'min_samples_split': randint(2, 10),\n",
        "    'min_samples_leaf': randint(1, 5),\n",
        "    'max_features': ['sqrt', 'log2', None],\n",
        "    'class_weight': [None, 'balanced', 'balanced_subsample']\n",
        "}\n",
        "\n",
        "rf_search = RandomizedSearchCV(\n",
        "    rf,\n",
        "    param_distributions=rf_param_dist,\n",
        "    n_iter=5,\n",
        "    scoring='f1',\n",
        "    cv=5,\n",
        "    verbose=2,\n",
        "    random_state=42,\n",
        "    n_jobs=-1\n",
        ")\n",
        "\n",
        "rf_search.fit(X_train, y_train)\n",
        "print(\"Best Random Forest params:\", rf_search.best_params_)\n",
        "print(\"Best F1:\", rf_search.best_score_)\n",
        "\n",
        "# ---------------------------\n",
        "# LightGBM\n",
        "# ---------------------------\n",
        "lgbm = LGBMClassifier(random_state=42)\n",
        "\n",
        "lgbm_param_dist = {\n",
        "    'num_leaves': randint(20, 50),\n",
        "    'max_depth': randint(5, 15),\n",
        "    'learning_rate': uniform(0.01, 0.1),\n",
        "    'n_estimators': randint(200, 1000),\n",
        "    'min_child_samples': randint(10, 50),\n",
        "    'subsample': uniform(0.6, 0.4),\n",
        "    'colsample_bytree': uniform(0.6, 0.4),\n",
        "    'class_weight': [None, 'balanced']\n",
        "}\n",
        "\n",
        "lgbm_search = RandomizedSearchCV(\n",
        "    lgbm,\n",
        "    param_distributions=lgbm_param_dist,\n",
        "    n_iter=5,\n",
        "    scoring='f1',\n",
        "    cv=5,\n",
        "    verbose=2,\n",
        "    random_state=42,\n",
        "    n_jobs=-1\n",
        ")\n",
        "\n",
        "lgbm_search.fit(X_train, y_train)\n",
        "print(\"Best LightGBM params:\", lgbm_search.best_params_)\n",
        "print(\"Best F1:\", lgbm_search.best_score_)\n",
        "\n",
        "\n",
        "# ---------------------------\n",
        "# XGBoost\n",
        "# ---------------------------\n",
        "xgb = XGBClassifier(\n",
        "    random_state=42,\n",
        "    eval_metric='logloss',\n",
        "    use_label_encoder=False\n",
        ")\n",
        "\n",
        "xgb_param_dist = {\n",
        "    'n_estimators': randint(200, 800),\n",
        "    'learning_rate': uniform(0.01, 0.2),\n",
        "    'max_depth': randint(3, 10),\n",
        "    'min_child_weight': randint(1, 10),\n",
        "    'subsample': uniform(0.6, 0.4),\n",
        "    'colsample_bytree': uniform(0.6, 0.4),\n",
        "    'gamma': uniform(0, 5),\n",
        "    'reg_alpha': uniform(0, 1),\n",
        "    'reg_lambda': uniform(0, 2),\n",
        "    'scale_pos_weight': [1, (y_train.value_counts()[0] / y_train.value_counts()[1])]\n",
        "}\n",
        "\n",
        "xgb_search = RandomizedSearchCV(\n",
        "    xgb,\n",
        "    param_distributions=xgb_param_dist,\n",
        "    n_iter=5,\n",
        "    scoring='f1',\n",
        "    cv=5,\n",
        "    verbose=2,\n",
        "    random_state=42,\n",
        "    n_jobs=-1\n",
        ")\n",
        "\n",
        "xgb_search.fit(X_train, y_train)\n",
        "print(\"Best XGBoost params:\", xgb_search.best_params_)\n",
        "print(\"Best F1:\", xgb_search.best_score_)"
      ],
      "metadata": {
        "colab": {
          "base_uri": "https://localhost:8080/",
          "height": 210
        },
        "collapsed": true,
        "id": "yik2f0PJyHDe",
        "outputId": "2c6d469a-0954-4933-a540-6b985b45d257"
      },
      "execution_count": 1,
      "outputs": [
        {
          "output_type": "error",
          "ename": "NameError",
          "evalue": "name 'X_train' is not defined",
          "traceback": [
            "\u001b[0;31m---------------------------------------------------------------------------\u001b[0m",
            "\u001b[0;31mNameError\u001b[0m                                 Traceback (most recent call last)",
            "\u001b[0;32m/tmp/ipython-input-1853698752.py\u001b[0m in \u001b[0;36m<cell line: 0>\u001b[0;34m()\u001b[0m\n\u001b[1;32m     30\u001b[0m )\n\u001b[1;32m     31\u001b[0m \u001b[0;34m\u001b[0m\u001b[0m\n\u001b[0;32m---> 32\u001b[0;31m \u001b[0mlogreg_search\u001b[0m\u001b[0;34m.\u001b[0m\u001b[0mfit\u001b[0m\u001b[0;34m(\u001b[0m\u001b[0mX_train\u001b[0m\u001b[0;34m,\u001b[0m \u001b[0my_train\u001b[0m\u001b[0;34m)\u001b[0m\u001b[0;34m\u001b[0m\u001b[0;34m\u001b[0m\u001b[0m\n\u001b[0m\u001b[1;32m     33\u001b[0m \u001b[0mprint\u001b[0m\u001b[0;34m(\u001b[0m\u001b[0;34m\"Best Logistic Regression params:\"\u001b[0m\u001b[0;34m,\u001b[0m \u001b[0mlogreg_search\u001b[0m\u001b[0;34m.\u001b[0m\u001b[0mbest_params_\u001b[0m\u001b[0;34m)\u001b[0m\u001b[0;34m\u001b[0m\u001b[0;34m\u001b[0m\u001b[0m\n\u001b[1;32m     34\u001b[0m \u001b[0mprint\u001b[0m\u001b[0;34m(\u001b[0m\u001b[0;34m\"Best F1:\"\u001b[0m\u001b[0;34m,\u001b[0m \u001b[0mlogreg_search\u001b[0m\u001b[0;34m.\u001b[0m\u001b[0mbest_score_\u001b[0m\u001b[0;34m)\u001b[0m\u001b[0;34m\u001b[0m\u001b[0;34m\u001b[0m\u001b[0m\n",
            "\u001b[0;31mNameError\u001b[0m: name 'X_train' is not defined"
          ]
        }
      ]
    },
    {
      "cell_type": "markdown",
      "source": [
        "## Optimize Hyperparameters Models"
      ],
      "metadata": {
        "id": "mzMp-j7oBXed"
      }
    },
    {
      "cell_type": "markdown",
      "source": [
        "### Get the best pre-trained models directly from RandomizedSearchCV."
      ],
      "metadata": {
        "id": "sMsazl8MBKou"
      }
    },
    {
      "cell_type": "code",
      "source": [
        "best_logreg = logreg_search.best_estimator_\n",
        "best_rf = rf_search.best_estimator_\n",
        "best_lgbm = lgbm_search.best_estimator_\n",
        "best_xgb = xgb_search.best_estimator_\n",
        "\n",
        "from sklearn.metrics import classification_report, f1_score\n",
        "\n",
        "models = {\n",
        "    \"Logistic Regression\": best_logreg,\n",
        "    \"Random Forest\": best_rf,\n",
        "    \"LightGBM\": best_lgbm,\n",
        "    \"XGBoost\": best_xgb\n",
        "}\n",
        "\n",
        "results = {}\n",
        "for name, model in models.items():\n",
        "    y_pred = model.predict(X_test)\n",
        "    print(f\"\\n=== {name} ===\")\n",
        "    print(\"F1 Score:\", f1_score(y_test, y_pred))\n",
        "    print(classification_report(y_test, y_pred))\n",
        "    results[name] = evaluate_model(model, X_val, y_val, f\"Validation ({name})\")\n",
        "\n",
        "results_df = pd.DataFrame(results).T\n",
        "results_df.sort_values(\"roc_auc\", ascending=False)"
      ],
      "metadata": {
        "colab": {
          "base_uri": "https://localhost:8080/",
          "height": 1000
        },
        "id": "jO1IXMdsEsj6",
        "outputId": "8f7183cc-0e6a-49ee-c720-90bd12685069"
      },
      "execution_count": null,
      "outputs": [
        {
          "output_type": "stream",
          "name": "stdout",
          "text": [
            "\n",
            "=== Logistic Regression ===\n",
            "F1 Score: 0.39215686274509803\n",
            "              precision    recall  f1-score   support\n",
            "\n",
            "           0       0.97      0.76      0.85       706\n",
            "           1       0.26      0.78      0.39        77\n",
            "\n",
            "    accuracy                           0.76       783\n",
            "   macro avg       0.62      0.77      0.62       783\n",
            "weighted avg       0.90      0.76      0.81       783\n",
            "\n",
            "Validation (Logistic Regression) Results:\n",
            "ROC-AUC: 0.859 | F1: 0.400 | Precision: 0.268 | Recall: 0.792\n",
            "------------------------------------------------------------\n",
            "\n",
            "=== Random Forest ===\n",
            "F1 Score: 0.3957597173144876\n",
            "              precision    recall  f1-score   support\n",
            "\n",
            "           0       0.96      0.79      0.87       706\n",
            "           1       0.27      0.73      0.40        77\n",
            "\n",
            "    accuracy                           0.78       783\n",
            "   macro avg       0.62      0.76      0.63       783\n",
            "weighted avg       0.90      0.78      0.82       783\n",
            "\n",
            "Validation (Random Forest) Results:\n",
            "ROC-AUC: 0.840 | F1: 0.388 | Precision: 0.269 | Recall: 0.701\n",
            "------------------------------------------------------------\n",
            "\n",
            "=== LightGBM ===\n",
            "F1 Score: 0.36860068259385664\n",
            "              precision    recall  f1-score   support\n",
            "\n",
            "           0       0.96      0.77      0.85       706\n",
            "           1       0.25      0.70      0.37        77\n",
            "\n",
            "    accuracy                           0.76       783\n",
            "   macro avg       0.60      0.74      0.61       783\n",
            "weighted avg       0.89      0.76      0.81       783\n",
            "\n",
            "Validation (LightGBM) Results:\n",
            "ROC-AUC: 0.834 | F1: 0.378 | Precision: 0.258 | Recall: 0.701\n",
            "------------------------------------------------------------\n",
            "\n",
            "=== XGBoost ===\n",
            "F1 Score: 0.37333333333333335\n",
            "              precision    recall  f1-score   support\n",
            "\n",
            "           0       0.96      0.76      0.85       706\n",
            "           1       0.25      0.73      0.37        77\n",
            "\n",
            "    accuracy                           0.76       783\n",
            "   macro avg       0.61      0.75      0.61       783\n",
            "weighted avg       0.89      0.76      0.80       783\n",
            "\n",
            "Validation (XGBoost) Results:\n",
            "ROC-AUC: 0.855 | F1: 0.400 | Precision: 0.271 | Recall: 0.766\n",
            "------------------------------------------------------------\n"
          ]
        },
        {
          "output_type": "execute_result",
          "data": {
            "text/plain": [
              "                      roc_auc        f1  precision    recall\n",
              "Logistic Regression  0.859280  0.400000   0.267544  0.792208\n",
              "XGBoost              0.854969  0.400000   0.270642  0.766234\n",
              "Random Forest        0.840011  0.388489   0.268657  0.701299\n",
              "LightGBM             0.833582  0.377622   0.258373  0.701299"
            ],
            "text/html": [
              "\n",
              "  <div id=\"df-54a8b3a6-c7c6-41aa-8ead-3124010feb1f\" class=\"colab-df-container\">\n",
              "    <div>\n",
              "<style scoped>\n",
              "    .dataframe tbody tr th:only-of-type {\n",
              "        vertical-align: middle;\n",
              "    }\n",
              "\n",
              "    .dataframe tbody tr th {\n",
              "        vertical-align: top;\n",
              "    }\n",
              "\n",
              "    .dataframe thead th {\n",
              "        text-align: right;\n",
              "    }\n",
              "</style>\n",
              "<table border=\"1\" class=\"dataframe\">\n",
              "  <thead>\n",
              "    <tr style=\"text-align: right;\">\n",
              "      <th></th>\n",
              "      <th>roc_auc</th>\n",
              "      <th>f1</th>\n",
              "      <th>precision</th>\n",
              "      <th>recall</th>\n",
              "    </tr>\n",
              "  </thead>\n",
              "  <tbody>\n",
              "    <tr>\n",
              "      <th>Logistic Regression</th>\n",
              "      <td>0.859280</td>\n",
              "      <td>0.400000</td>\n",
              "      <td>0.267544</td>\n",
              "      <td>0.792208</td>\n",
              "    </tr>\n",
              "    <tr>\n",
              "      <th>XGBoost</th>\n",
              "      <td>0.854969</td>\n",
              "      <td>0.400000</td>\n",
              "      <td>0.270642</td>\n",
              "      <td>0.766234</td>\n",
              "    </tr>\n",
              "    <tr>\n",
              "      <th>Random Forest</th>\n",
              "      <td>0.840011</td>\n",
              "      <td>0.388489</td>\n",
              "      <td>0.268657</td>\n",
              "      <td>0.701299</td>\n",
              "    </tr>\n",
              "    <tr>\n",
              "      <th>LightGBM</th>\n",
              "      <td>0.833582</td>\n",
              "      <td>0.377622</td>\n",
              "      <td>0.258373</td>\n",
              "      <td>0.701299</td>\n",
              "    </tr>\n",
              "  </tbody>\n",
              "</table>\n",
              "</div>\n",
              "    <div class=\"colab-df-buttons\">\n",
              "\n",
              "  <div class=\"colab-df-container\">\n",
              "    <button class=\"colab-df-convert\" onclick=\"convertToInteractive('df-54a8b3a6-c7c6-41aa-8ead-3124010feb1f')\"\n",
              "            title=\"Convert this dataframe to an interactive table.\"\n",
              "            style=\"display:none;\">\n",
              "\n",
              "  <svg xmlns=\"http://www.w3.org/2000/svg\" height=\"24px\" viewBox=\"0 -960 960 960\">\n",
              "    <path d=\"M120-120v-720h720v720H120Zm60-500h600v-160H180v160Zm220 220h160v-160H400v160Zm0 220h160v-160H400v160ZM180-400h160v-160H180v160Zm440 0h160v-160H620v160ZM180-180h160v-160H180v160Zm440 0h160v-160H620v160Z\"/>\n",
              "  </svg>\n",
              "    </button>\n",
              "\n",
              "  <style>\n",
              "    .colab-df-container {\n",
              "      display:flex;\n",
              "      gap: 12px;\n",
              "    }\n",
              "\n",
              "    .colab-df-convert {\n",
              "      background-color: #E8F0FE;\n",
              "      border: none;\n",
              "      border-radius: 50%;\n",
              "      cursor: pointer;\n",
              "      display: none;\n",
              "      fill: #1967D2;\n",
              "      height: 32px;\n",
              "      padding: 0 0 0 0;\n",
              "      width: 32px;\n",
              "    }\n",
              "\n",
              "    .colab-df-convert:hover {\n",
              "      background-color: #E2EBFA;\n",
              "      box-shadow: 0px 1px 2px rgba(60, 64, 67, 0.3), 0px 1px 3px 1px rgba(60, 64, 67, 0.15);\n",
              "      fill: #174EA6;\n",
              "    }\n",
              "\n",
              "    .colab-df-buttons div {\n",
              "      margin-bottom: 4px;\n",
              "    }\n",
              "\n",
              "    [theme=dark] .colab-df-convert {\n",
              "      background-color: #3B4455;\n",
              "      fill: #D2E3FC;\n",
              "    }\n",
              "\n",
              "    [theme=dark] .colab-df-convert:hover {\n",
              "      background-color: #434B5C;\n",
              "      box-shadow: 0px 1px 3px 1px rgba(0, 0, 0, 0.15);\n",
              "      filter: drop-shadow(0px 1px 2px rgba(0, 0, 0, 0.3));\n",
              "      fill: #FFFFFF;\n",
              "    }\n",
              "  </style>\n",
              "\n",
              "    <script>\n",
              "      const buttonEl =\n",
              "        document.querySelector('#df-54a8b3a6-c7c6-41aa-8ead-3124010feb1f button.colab-df-convert');\n",
              "      buttonEl.style.display =\n",
              "        google.colab.kernel.accessAllowed ? 'block' : 'none';\n",
              "\n",
              "      async function convertToInteractive(key) {\n",
              "        const element = document.querySelector('#df-54a8b3a6-c7c6-41aa-8ead-3124010feb1f');\n",
              "        const dataTable =\n",
              "          await google.colab.kernel.invokeFunction('convertToInteractive',\n",
              "                                                    [key], {});\n",
              "        if (!dataTable) return;\n",
              "\n",
              "        const docLinkHtml = 'Like what you see? Visit the ' +\n",
              "          '<a target=\"_blank\" href=https://colab.research.google.com/notebooks/data_table.ipynb>data table notebook</a>'\n",
              "          + ' to learn more about interactive tables.';\n",
              "        element.innerHTML = '';\n",
              "        dataTable['output_type'] = 'display_data';\n",
              "        await google.colab.output.renderOutput(dataTable, element);\n",
              "        const docLink = document.createElement('div');\n",
              "        docLink.innerHTML = docLinkHtml;\n",
              "        element.appendChild(docLink);\n",
              "      }\n",
              "    </script>\n",
              "  </div>\n",
              "\n",
              "\n",
              "    <div id=\"df-aa6e1e90-db96-4f59-9238-1720582e9d80\">\n",
              "      <button class=\"colab-df-quickchart\" onclick=\"quickchart('df-aa6e1e90-db96-4f59-9238-1720582e9d80')\"\n",
              "                title=\"Suggest charts\"\n",
              "                style=\"display:none;\">\n",
              "\n",
              "<svg xmlns=\"http://www.w3.org/2000/svg\" height=\"24px\"viewBox=\"0 0 24 24\"\n",
              "     width=\"24px\">\n",
              "    <g>\n",
              "        <path d=\"M19 3H5c-1.1 0-2 .9-2 2v14c0 1.1.9 2 2 2h14c1.1 0 2-.9 2-2V5c0-1.1-.9-2-2-2zM9 17H7v-7h2v7zm4 0h-2V7h2v10zm4 0h-2v-4h2v4z\"/>\n",
              "    </g>\n",
              "</svg>\n",
              "      </button>\n",
              "\n",
              "<style>\n",
              "  .colab-df-quickchart {\n",
              "      --bg-color: #E8F0FE;\n",
              "      --fill-color: #1967D2;\n",
              "      --hover-bg-color: #E2EBFA;\n",
              "      --hover-fill-color: #174EA6;\n",
              "      --disabled-fill-color: #AAA;\n",
              "      --disabled-bg-color: #DDD;\n",
              "  }\n",
              "\n",
              "  [theme=dark] .colab-df-quickchart {\n",
              "      --bg-color: #3B4455;\n",
              "      --fill-color: #D2E3FC;\n",
              "      --hover-bg-color: #434B5C;\n",
              "      --hover-fill-color: #FFFFFF;\n",
              "      --disabled-bg-color: #3B4455;\n",
              "      --disabled-fill-color: #666;\n",
              "  }\n",
              "\n",
              "  .colab-df-quickchart {\n",
              "    background-color: var(--bg-color);\n",
              "    border: none;\n",
              "    border-radius: 50%;\n",
              "    cursor: pointer;\n",
              "    display: none;\n",
              "    fill: var(--fill-color);\n",
              "    height: 32px;\n",
              "    padding: 0;\n",
              "    width: 32px;\n",
              "  }\n",
              "\n",
              "  .colab-df-quickchart:hover {\n",
              "    background-color: var(--hover-bg-color);\n",
              "    box-shadow: 0 1px 2px rgba(60, 64, 67, 0.3), 0 1px 3px 1px rgba(60, 64, 67, 0.15);\n",
              "    fill: var(--button-hover-fill-color);\n",
              "  }\n",
              "\n",
              "  .colab-df-quickchart-complete:disabled,\n",
              "  .colab-df-quickchart-complete:disabled:hover {\n",
              "    background-color: var(--disabled-bg-color);\n",
              "    fill: var(--disabled-fill-color);\n",
              "    box-shadow: none;\n",
              "  }\n",
              "\n",
              "  .colab-df-spinner {\n",
              "    border: 2px solid var(--fill-color);\n",
              "    border-color: transparent;\n",
              "    border-bottom-color: var(--fill-color);\n",
              "    animation:\n",
              "      spin 1s steps(1) infinite;\n",
              "  }\n",
              "\n",
              "  @keyframes spin {\n",
              "    0% {\n",
              "      border-color: transparent;\n",
              "      border-bottom-color: var(--fill-color);\n",
              "      border-left-color: var(--fill-color);\n",
              "    }\n",
              "    20% {\n",
              "      border-color: transparent;\n",
              "      border-left-color: var(--fill-color);\n",
              "      border-top-color: var(--fill-color);\n",
              "    }\n",
              "    30% {\n",
              "      border-color: transparent;\n",
              "      border-left-color: var(--fill-color);\n",
              "      border-top-color: var(--fill-color);\n",
              "      border-right-color: var(--fill-color);\n",
              "    }\n",
              "    40% {\n",
              "      border-color: transparent;\n",
              "      border-right-color: var(--fill-color);\n",
              "      border-top-color: var(--fill-color);\n",
              "    }\n",
              "    60% {\n",
              "      border-color: transparent;\n",
              "      border-right-color: var(--fill-color);\n",
              "    }\n",
              "    80% {\n",
              "      border-color: transparent;\n",
              "      border-right-color: var(--fill-color);\n",
              "      border-bottom-color: var(--fill-color);\n",
              "    }\n",
              "    90% {\n",
              "      border-color: transparent;\n",
              "      border-bottom-color: var(--fill-color);\n",
              "    }\n",
              "  }\n",
              "</style>\n",
              "\n",
              "      <script>\n",
              "        async function quickchart(key) {\n",
              "          const quickchartButtonEl =\n",
              "            document.querySelector('#' + key + ' button');\n",
              "          quickchartButtonEl.disabled = true;  // To prevent multiple clicks.\n",
              "          quickchartButtonEl.classList.add('colab-df-spinner');\n",
              "          try {\n",
              "            const charts = await google.colab.kernel.invokeFunction(\n",
              "                'suggestCharts', [key], {});\n",
              "          } catch (error) {\n",
              "            console.error('Error during call to suggestCharts:', error);\n",
              "          }\n",
              "          quickchartButtonEl.classList.remove('colab-df-spinner');\n",
              "          quickchartButtonEl.classList.add('colab-df-quickchart-complete');\n",
              "        }\n",
              "        (() => {\n",
              "          let quickchartButtonEl =\n",
              "            document.querySelector('#df-aa6e1e90-db96-4f59-9238-1720582e9d80 button');\n",
              "          quickchartButtonEl.style.display =\n",
              "            google.colab.kernel.accessAllowed ? 'block' : 'none';\n",
              "        })();\n",
              "      </script>\n",
              "    </div>\n",
              "\n",
              "    </div>\n",
              "  </div>\n"
            ],
            "application/vnd.google.colaboratory.intrinsic+json": {
              "type": "dataframe",
              "summary": "{\n  \"name\": \"results_df\",\n  \"rows\": 4,\n  \"fields\": [\n    {\n      \"column\": \"roc_auc\",\n      \"properties\": {\n        \"dtype\": \"number\",\n        \"std\": 0.0121542896249824,\n        \"min\": 0.8335820208160634,\n        \"max\": 0.8592797273648337,\n        \"num_unique_values\": 4,\n        \"samples\": [\n          0.8549691443308465,\n          0.8335820208160634,\n          0.8592797273648337\n        ],\n        \"semantic_type\": \"\",\n        \"description\": \"\"\n      }\n    },\n    {\n      \"column\": \"f1\",\n      \"properties\": {\n        \"dtype\": \"number\",\n        \"std\": 0.010741665833532255,\n        \"min\": 0.3776223776223776,\n        \"max\": 0.4,\n        \"num_unique_values\": 3,\n        \"samples\": [\n          0.4,\n          0.38848920863309355,\n          0.3776223776223776\n        ],\n        \"semantic_type\": \"\",\n        \"description\": \"\"\n      }\n    },\n    {\n      \"column\": \"precision\",\n      \"properties\": {\n        \"dtype\": \"number\",\n        \"std\": 0.0054402824442979615,\n        \"min\": 0.2583732057416268,\n        \"max\": 0.2706422018348624,\n        \"num_unique_values\": 4,\n        \"samples\": [\n          0.2706422018348624,\n          0.2583732057416268,\n          0.2675438596491228\n        ],\n        \"semantic_type\": \"\",\n        \"description\": \"\"\n      }\n    },\n    {\n      \"column\": \"recall\",\n      \"properties\": {\n        \"dtype\": \"number\",\n        \"std\": 0.046221117974161535,\n        \"min\": 0.7012987012987013,\n        \"max\": 0.7922077922077922,\n        \"num_unique_values\": 3,\n        \"samples\": [\n          0.7922077922077922,\n          0.7662337662337663,\n          0.7012987012987013\n        ],\n        \"semantic_type\": \"\",\n        \"description\": \"\"\n      }\n    }\n  ]\n}"
            }
          },
          "metadata": {},
          "execution_count": 19
        }
      ]
    },
    {
      "cell_type": "markdown",
      "source": [
        "### Export trained models"
      ],
      "metadata": {
        "id": "ZRXCcWkPQCJH"
      }
    },
    {
      "cell_type": "code",
      "source": [
        "import joblib\n",
        "\n",
        "output_path = \"/content/drive/MyDrive/cellia_drive/Models/\"\n",
        "\n",
        "import os\n",
        "os.makedirs(output_path, exist_ok=True)\n",
        "\n",
        "# Guardar cada modelo\n",
        "for name, model in models.items():\n",
        "    file_path = os.path.join(output_path, f\"{name}.joblib\")\n",
        "    joblib.dump(model, file_path)\n",
        "    print(f\"✅ {name} saved to {file_path}\")"
      ],
      "metadata": {
        "colab": {
          "base_uri": "https://localhost:8080/"
        },
        "id": "U1N4wa74P-vu",
        "outputId": "014d94ef-cf79-43c7-aace-09c8f2f4ab35"
      },
      "execution_count": null,
      "outputs": [
        {
          "output_type": "stream",
          "name": "stdout",
          "text": [
            "✅ Logistic Regression saved to /content/drive/MyDrive/cellia_drive/Models/Logistic Regression.joblib\n",
            "✅ Random Forest saved to /content/drive/MyDrive/cellia_drive/Models/Random Forest.joblib\n",
            "✅ LightGBM saved to /content/drive/MyDrive/cellia_drive/Models/LightGBM.joblib\n",
            "✅ XGBoost saved to /content/drive/MyDrive/cellia_drive/Models/XGBoost.joblib\n"
          ]
        }
      ]
    }
  ]
}