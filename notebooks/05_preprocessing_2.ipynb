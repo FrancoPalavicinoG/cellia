{
  "nbformat": 4,
  "nbformat_minor": 0,
  "metadata": {
    "colab": {
      "provenance": [],
      "authorship_tag": "ABX9TyMQ9HiCafGp0RPkOM9BtYtg",
      "include_colab_link": true
    },
    "kernelspec": {
      "name": "python3",
      "display_name": "Python 3"
    },
    "language_info": {
      "name": "python"
    }
  },
  "cells": [
    {
      "cell_type": "markdown",
      "metadata": {
        "id": "view-in-github",
        "colab_type": "text"
      },
      "source": [
        "<a href=\"https://colab.research.google.com/github/FrancoPalavicinoG/cellia/blob/main/notebooks/05_preprocessing_2.ipynb\" target=\"_parent\"><img src=\"https://colab.research.google.com/assets/colab-badge.svg\" alt=\"Open In Colab\"/></a>"
      ]
    },
    {
      "cell_type": "markdown",
      "source": [
        "### Load Train, Val & Test Datatsets from Google Drive"
      ],
      "metadata": {
        "id": "uvklW7uOOvV5"
      }
    },
    {
      "cell_type": "markdown",
      "source": [
        "Mount Drive"
      ],
      "metadata": {
        "id": "2BA_OylaO3lQ"
      }
    },
    {
      "cell_type": "code",
      "execution_count": 1,
      "metadata": {
        "colab": {
          "base_uri": "https://localhost:8080/"
        },
        "id": "ircFwNTsOntX",
        "outputId": "94d8e784-44c4-4473-d430-c5a56c613fd0"
      },
      "outputs": [
        {
          "output_type": "stream",
          "name": "stdout",
          "text": [
            "Mounted at /content/drive\n"
          ]
        }
      ],
      "source": [
        "from google.colab import drive\n",
        "drive.mount('/content/drive')"
      ]
    },
    {
      "cell_type": "markdown",
      "source": [
        "Import libraries"
      ],
      "metadata": {
        "id": "S3x9GGnLPPq9"
      }
    },
    {
      "cell_type": "code",
      "source": [
        "# Core\n",
        "import pandas as pd\n",
        "import numpy as np\n",
        "\n",
        "# Models\n",
        "from sklearn.linear_model import LogisticRegression\n",
        "from sklearn.ensemble import RandomForestClassifier\n",
        "from xgboost import XGBClassifier\n",
        "from lightgbm import LGBMClassifier\n",
        "from sklearn.neural_network import MLPClassifier\n",
        "\n",
        "# Metrics\n",
        "from sklearn.metrics import roc_auc_score, f1_score, precision_score, recall_score, classification_report\n",
        "\n",
        "# Explainability\n",
        "import shap\n",
        "import matplotlib.pyplot as plt\n",
        "import seaborn as sns"
      ],
      "metadata": {
        "id": "qLOvlovjO5oC"
      },
      "execution_count": 2,
      "outputs": []
    },
    {
      "cell_type": "markdown",
      "source": [
        "Load Datasets"
      ],
      "metadata": {
        "id": "y91Tf131Pf2Z"
      }
    },
    {
      "cell_type": "code",
      "source": [
        "input_path = \"/content/drive/MyDrive/cellia_drive/Datasets/\""
      ],
      "metadata": {
        "id": "Aif9-b2XPefe"
      },
      "execution_count": 3,
      "outputs": []
    },
    {
      "cell_type": "markdown",
      "source": [
        "Load features"
      ],
      "metadata": {
        "id": "qVCF2R1ZDGDr"
      }
    },
    {
      "cell_type": "code",
      "source": [
        "X_train = pd.read_csv(input_path + \"X_train.csv\")\n",
        "X_val   = pd.read_csv(input_path + \"X_val.csv\")\n",
        "X_test  = pd.read_csv(input_path + \"X_test.csv\")"
      ],
      "metadata": {
        "id": "-KNFKB-Gy4Cn"
      },
      "execution_count": 4,
      "outputs": []
    },
    {
      "cell_type": "markdown",
      "source": [
        "Load labels"
      ],
      "metadata": {
        "id": "2htXY5yADKJq"
      }
    },
    {
      "cell_type": "code",
      "source": [
        "y_train = pd.read_csv(input_path + \"y_train.csv\").squeeze()\n",
        "y_val   = pd.read_csv(input_path + \"y_val.csv\").squeeze()\n",
        "y_test  = pd.read_csv(input_path + \"y_test.csv\").squeeze()"
      ],
      "metadata": {
        "id": "yd646piIDNX4"
      },
      "execution_count": 5,
      "outputs": []
    },
    {
      "cell_type": "code",
      "source": [
        "print(X_train.shape, y_train.shape)\n",
        "print(X_val.shape, y_val.shape)\n",
        "print(X_test.shape, y_test.shape)"
      ],
      "metadata": {
        "colab": {
          "base_uri": "https://localhost:8080/"
        },
        "id": "y7P_rwKUQTJW",
        "outputId": "778aa5ca-b7b5-498a-bc0b-d47ebd8e72be"
      },
      "execution_count": 6,
      "outputs": [
        {
          "output_type": "stream",
          "name": "stdout",
          "text": [
            "(3649, 25) (3649,)\n",
            "(782, 25) (782,)\n",
            "(783, 25) (783,)\n"
          ]
        }
      ]
    },
    {
      "cell_type": "markdown",
      "source": [
        "### Preprocessing Experiments"
      ],
      "metadata": {
        "id": "j7RODmsTpGCV"
      }
    },
    {
      "cell_type": "markdown",
      "source": [
        "Imports"
      ],
      "metadata": {
        "id": "NL2kUesY9Fza"
      }
    },
    {
      "cell_type": "code",
      "source": [
        "import numpy as np\n",
        "import pandas as pd\n",
        "\n",
        "from sklearn.model_selection import StratifiedKFold, cross_validate\n",
        "from sklearn.feature_selection import SelectKBest, f_classif\n",
        "from sklearn.linear_model import LogisticRegression\n",
        "from sklearn.ensemble import RandomForestClassifier\n",
        "from sklearn.pipeline import Pipeline\n",
        "from sklearn.preprocessing import StandardScaler\n",
        "from sklearn.impute import SimpleImputer\n",
        "from sklearn.metrics import make_scorer, f1_score, recall_score, roc_auc_score\n",
        "\n",
        "from imblearn.under_sampling import RandomUnderSampler\n",
        "from imblearn.over_sampling import SMOTE\n",
        "from imblearn.combine import SMOTEENN"
      ],
      "metadata": {
        "id": "zc6NNorj9B_M"
      },
      "execution_count": 10,
      "outputs": []
    },
    {
      "cell_type": "markdown",
      "source": [
        "Models & Results"
      ],
      "metadata": {
        "id": "htf2Huxw9HzO"
      }
    },
    {
      "cell_type": "code",
      "source": [
        "models = {\n",
        "    \"LogReg\": LogisticRegression(max_iter=1000, class_weight='balanced', random_state=42),\n",
        "    \"RandomForest\": RandomForestClassifier(n_estimators=300, random_state=42),\n",
        "    \"LightGBM\": LGBMClassifier(n_estimators=300, random_state=42)\n",
        "}\n",
        "\n",
        "# Loop through models and store results\n",
        "results = {}\n",
        "for name, model in models.items():\n",
        "    model.fit(X_train, y_train)\n",
        "    y_pred = model.predict(X_val)\n",
        "    y_proba = model.predict_proba(X_val)[:, 1]\n",
        "\n",
        "    results[name] = {\n",
        "        \"ROC-AUC\": roc_auc_score(y_val, y_proba),\n",
        "        \"F1\": f1_score(y_val, y_pred),\n",
        "        \"Recall\": recall_score(y_val, y_pred),\n",
        "        \"Precision\": precision_score(y_val, y_pred)\n",
        "    }\n",
        "\n",
        "pd.DataFrame(results).T.sort_values(by=\"F1\", ascending=False)\n",
        "\n",
        "numeric_cols = X_train.columns.tolist()  # or the list of features you want to try"
      ],
      "metadata": {
        "id": "b85TQdOypDCH",
        "collapsed": true
      },
      "execution_count": null,
      "outputs": []
    },
    {
      "cell_type": "markdown",
      "source": [
        " Try several k values to see how performance changes"
      ],
      "metadata": {
        "id": "mZlQ4Mr49MU0"
      }
    },
    {
      "cell_type": "code",
      "source": [
        "numeric_cols = X_train.columns.tolist()\n",
        "\n",
        "k_values = [5, 10, 15, 20, len(numeric_cols)]\n",
        "\n",
        "results_all = {}\n",
        "\n",
        "scoring = {\n",
        "    'roc_auc': 'roc_auc',\n",
        "    'f1': 'f1',\n",
        "    'recall_pos': make_scorer(recall_score, pos_label=1)\n",
        "}\n",
        "\n",
        "for model_name, model in models.items():\n",
        "    print(f\"\\n===== Evaluating {model_name} =====\")\n",
        "    model_results = {}\n",
        "\n",
        "    for k in k_values:\n",
        "        selector = SelectKBest(score_func=f_classif, k=k)\n",
        "        pipe = Pipeline([\n",
        "            (\"imputer\", SimpleImputer(strategy=\"median\")),\n",
        "            (\"scaler\", StandardScaler()),\n",
        "            (\"select\", selector),\n",
        "            (\"clf\", model)\n",
        "        ])\n",
        "\n",
        "        cv = StratifiedKFold(n_splits=5, shuffle=True, random_state=42)\n",
        "        cv_res = cross_validate(pipe, X_train, y_train, cv=cv, scoring=scoring, n_jobs=-1, return_train_score=False)\n",
        "\n",
        "        # Store mean of each metric\n",
        "        model_results[k] = {metric: np.mean(cv_res[f\"test_{metric}\"]) for metric in scoring.keys()}\n",
        "        print(f\"k={k} -> {model_results[k]}\")\n",
        "\n",
        "    results_all[model_name] = model_results"
      ],
      "metadata": {
        "colab": {
          "base_uri": "https://localhost:8080/"
        },
        "id": "iABn3R8ipOyu",
        "outputId": "bddff80d-55e7-4a42-d97b-068a031c3e6d"
      },
      "execution_count": 13,
      "outputs": [
        {
          "output_type": "stream",
          "name": "stdout",
          "text": [
            "\n",
            "===== Evaluating LogReg =====\n",
            "k=5 -> {'roc_auc': np.float64(0.8261169261431472), 'f1': np.float64(0.3660077748099011), 'recall_pos': np.float64(0.7884194053208139)}\n",
            "k=10 -> {'roc_auc': np.float64(0.8454366863117239), 'f1': np.float64(0.39077391718826154), 'recall_pos': np.float64(0.7800078247261346)}\n",
            "k=15 -> {'roc_auc': np.float64(0.8459639634497291), 'f1': np.float64(0.39196660161069274), 'recall_pos': np.float64(0.7827856025039124)}\n",
            "k=20 -> {'roc_auc': np.float64(0.8449116091347136), 'f1': np.float64(0.3895683120027583), 'recall_pos': np.float64(0.7716744913928013)}\n",
            "k=25 -> {'roc_auc': np.float64(0.8434964990890972), 'f1': np.float64(0.39042916101512953), 'recall_pos': np.float64(0.7744913928012519)}\n",
            "\n",
            "===== Evaluating RandomForest =====\n",
            "k=5 -> {'roc_auc': np.float64(0.778327381546965), 'f1': np.float64(0.158418003910413), 'recall_pos': np.float64(0.11146322378716744)}\n",
            "k=10 -> {'roc_auc': np.float64(0.8278797192136269), 'f1': np.float64(0.2686846719804249), 'recall_pos': np.float64(0.1812206572769953)}\n",
            "k=15 -> {'roc_auc': np.float64(0.8266610894682517), 'f1': np.float64(0.2128501798499233), 'recall_pos': np.float64(0.1365023474178404)}\n",
            "k=20 -> {'roc_auc': np.float64(0.8272557329794369), 'f1': np.float64(0.23679418679298805), 'recall_pos': np.float64(0.1534037558685446)}\n",
            "k=25 -> {'roc_auc': np.float64(0.8223501767103805), 'f1': np.float64(0.22865315921973198), 'recall_pos': np.float64(0.1450312989045383)}\n",
            "\n",
            "===== Evaluating LightGBM =====\n",
            "k=5 -> {'roc_auc': np.float64(0.7512140811773714), 'f1': np.float64(0.2042232277526395), 'recall_pos': np.float64(0.16169796557120503)}\n",
            "k=10 -> {'roc_auc': np.float64(0.8005460659940733), 'f1': np.float64(0.2853766769865841), 'recall_pos': np.float64(0.22010954616588418)}\n",
            "k=15 -> {'roc_auc': np.float64(0.8079975717187284), 'f1': np.float64(0.29879852178799043), 'recall_pos': np.float64(0.22566510172143978)}\n",
            "k=20 -> {'roc_auc': np.float64(0.8078589741760254), 'f1': np.float64(0.3150385363192985), 'recall_pos': np.float64(0.2284037558685446)}\n",
            "k=25 -> {'roc_auc': np.float64(0.8023519366791767), 'f1': np.float64(0.2922967032967033), 'recall_pos': np.float64(0.20895931142410012)}\n"
          ]
        }
      ]
    },
    {
      "cell_type": "markdown",
      "source": [
        "Display results"
      ],
      "metadata": {
        "id": "FjGjCyLn9yLv"
      }
    },
    {
      "cell_type": "code",
      "source": [
        "flat_results = []\n",
        "for model_name, res_k in results_all.items():\n",
        "    for k, metrics in res_k.items():\n",
        "        row = {'Model': model_name, 'k': k}\n",
        "        row.update(metrics)\n",
        "        flat_results.append(row)\n",
        "\n",
        "results_df = pd.DataFrame(flat_results)\n",
        "results_df = results_df.sort_values(by=[\"roc_auc\"], ascending=False).reset_index(drop=True)\n",
        "\n",
        "print(\"\\n=== Summary (sorted by ROC-AUC) ===\")\n",
        "display(results_df)"
      ],
      "metadata": {
        "colab": {
          "base_uri": "https://localhost:8080/",
          "height": 554
        },
        "id": "M7J6bbsn9zPL",
        "outputId": "d4115f2a-3b91-4fc2-89d9-51d564119374"
      },
      "execution_count": 14,
      "outputs": [
        {
          "output_type": "stream",
          "name": "stdout",
          "text": [
            "\n",
            "=== Summary (sorted by ROC-AUC) ===\n"
          ]
        },
        {
          "output_type": "display_data",
          "data": {
            "text/plain": [
              "           Model   k   roc_auc        f1  recall_pos\n",
              "0         LogReg  15  0.845964  0.391967    0.782786\n",
              "1         LogReg  10  0.845437  0.390774    0.780008\n",
              "2         LogReg  20  0.844912  0.389568    0.771674\n",
              "3         LogReg  25  0.843496  0.390429    0.774491\n",
              "4   RandomForest  10  0.827880  0.268685    0.181221\n",
              "5   RandomForest  20  0.827256  0.236794    0.153404\n",
              "6   RandomForest  15  0.826661  0.212850    0.136502\n",
              "7         LogReg   5  0.826117  0.366008    0.788419\n",
              "8   RandomForest  25  0.822350  0.228653    0.145031\n",
              "9       LightGBM  15  0.807998  0.298799    0.225665\n",
              "10      LightGBM  20  0.807859  0.315039    0.228404\n",
              "11      LightGBM  25  0.802352  0.292297    0.208959\n",
              "12      LightGBM  10  0.800546  0.285377    0.220110\n",
              "13  RandomForest   5  0.778327  0.158418    0.111463\n",
              "14      LightGBM   5  0.751214  0.204223    0.161698"
            ],
            "text/html": [
              "\n",
              "  <div id=\"df-74d5ec6c-6d9b-491f-84a1-c0176a9113b3\" class=\"colab-df-container\">\n",
              "    <div>\n",
              "<style scoped>\n",
              "    .dataframe tbody tr th:only-of-type {\n",
              "        vertical-align: middle;\n",
              "    }\n",
              "\n",
              "    .dataframe tbody tr th {\n",
              "        vertical-align: top;\n",
              "    }\n",
              "\n",
              "    .dataframe thead th {\n",
              "        text-align: right;\n",
              "    }\n",
              "</style>\n",
              "<table border=\"1\" class=\"dataframe\">\n",
              "  <thead>\n",
              "    <tr style=\"text-align: right;\">\n",
              "      <th></th>\n",
              "      <th>Model</th>\n",
              "      <th>k</th>\n",
              "      <th>roc_auc</th>\n",
              "      <th>f1</th>\n",
              "      <th>recall_pos</th>\n",
              "    </tr>\n",
              "  </thead>\n",
              "  <tbody>\n",
              "    <tr>\n",
              "      <th>0</th>\n",
              "      <td>LogReg</td>\n",
              "      <td>15</td>\n",
              "      <td>0.845964</td>\n",
              "      <td>0.391967</td>\n",
              "      <td>0.782786</td>\n",
              "    </tr>\n",
              "    <tr>\n",
              "      <th>1</th>\n",
              "      <td>LogReg</td>\n",
              "      <td>10</td>\n",
              "      <td>0.845437</td>\n",
              "      <td>0.390774</td>\n",
              "      <td>0.780008</td>\n",
              "    </tr>\n",
              "    <tr>\n",
              "      <th>2</th>\n",
              "      <td>LogReg</td>\n",
              "      <td>20</td>\n",
              "      <td>0.844912</td>\n",
              "      <td>0.389568</td>\n",
              "      <td>0.771674</td>\n",
              "    </tr>\n",
              "    <tr>\n",
              "      <th>3</th>\n",
              "      <td>LogReg</td>\n",
              "      <td>25</td>\n",
              "      <td>0.843496</td>\n",
              "      <td>0.390429</td>\n",
              "      <td>0.774491</td>\n",
              "    </tr>\n",
              "    <tr>\n",
              "      <th>4</th>\n",
              "      <td>RandomForest</td>\n",
              "      <td>10</td>\n",
              "      <td>0.827880</td>\n",
              "      <td>0.268685</td>\n",
              "      <td>0.181221</td>\n",
              "    </tr>\n",
              "    <tr>\n",
              "      <th>5</th>\n",
              "      <td>RandomForest</td>\n",
              "      <td>20</td>\n",
              "      <td>0.827256</td>\n",
              "      <td>0.236794</td>\n",
              "      <td>0.153404</td>\n",
              "    </tr>\n",
              "    <tr>\n",
              "      <th>6</th>\n",
              "      <td>RandomForest</td>\n",
              "      <td>15</td>\n",
              "      <td>0.826661</td>\n",
              "      <td>0.212850</td>\n",
              "      <td>0.136502</td>\n",
              "    </tr>\n",
              "    <tr>\n",
              "      <th>7</th>\n",
              "      <td>LogReg</td>\n",
              "      <td>5</td>\n",
              "      <td>0.826117</td>\n",
              "      <td>0.366008</td>\n",
              "      <td>0.788419</td>\n",
              "    </tr>\n",
              "    <tr>\n",
              "      <th>8</th>\n",
              "      <td>RandomForest</td>\n",
              "      <td>25</td>\n",
              "      <td>0.822350</td>\n",
              "      <td>0.228653</td>\n",
              "      <td>0.145031</td>\n",
              "    </tr>\n",
              "    <tr>\n",
              "      <th>9</th>\n",
              "      <td>LightGBM</td>\n",
              "      <td>15</td>\n",
              "      <td>0.807998</td>\n",
              "      <td>0.298799</td>\n",
              "      <td>0.225665</td>\n",
              "    </tr>\n",
              "    <tr>\n",
              "      <th>10</th>\n",
              "      <td>LightGBM</td>\n",
              "      <td>20</td>\n",
              "      <td>0.807859</td>\n",
              "      <td>0.315039</td>\n",
              "      <td>0.228404</td>\n",
              "    </tr>\n",
              "    <tr>\n",
              "      <th>11</th>\n",
              "      <td>LightGBM</td>\n",
              "      <td>25</td>\n",
              "      <td>0.802352</td>\n",
              "      <td>0.292297</td>\n",
              "      <td>0.208959</td>\n",
              "    </tr>\n",
              "    <tr>\n",
              "      <th>12</th>\n",
              "      <td>LightGBM</td>\n",
              "      <td>10</td>\n",
              "      <td>0.800546</td>\n",
              "      <td>0.285377</td>\n",
              "      <td>0.220110</td>\n",
              "    </tr>\n",
              "    <tr>\n",
              "      <th>13</th>\n",
              "      <td>RandomForest</td>\n",
              "      <td>5</td>\n",
              "      <td>0.778327</td>\n",
              "      <td>0.158418</td>\n",
              "      <td>0.111463</td>\n",
              "    </tr>\n",
              "    <tr>\n",
              "      <th>14</th>\n",
              "      <td>LightGBM</td>\n",
              "      <td>5</td>\n",
              "      <td>0.751214</td>\n",
              "      <td>0.204223</td>\n",
              "      <td>0.161698</td>\n",
              "    </tr>\n",
              "  </tbody>\n",
              "</table>\n",
              "</div>\n",
              "    <div class=\"colab-df-buttons\">\n",
              "\n",
              "  <div class=\"colab-df-container\">\n",
              "    <button class=\"colab-df-convert\" onclick=\"convertToInteractive('df-74d5ec6c-6d9b-491f-84a1-c0176a9113b3')\"\n",
              "            title=\"Convert this dataframe to an interactive table.\"\n",
              "            style=\"display:none;\">\n",
              "\n",
              "  <svg xmlns=\"http://www.w3.org/2000/svg\" height=\"24px\" viewBox=\"0 -960 960 960\">\n",
              "    <path d=\"M120-120v-720h720v720H120Zm60-500h600v-160H180v160Zm220 220h160v-160H400v160Zm0 220h160v-160H400v160ZM180-400h160v-160H180v160Zm440 0h160v-160H620v160ZM180-180h160v-160H180v160Zm440 0h160v-160H620v160Z\"/>\n",
              "  </svg>\n",
              "    </button>\n",
              "\n",
              "  <style>\n",
              "    .colab-df-container {\n",
              "      display:flex;\n",
              "      gap: 12px;\n",
              "    }\n",
              "\n",
              "    .colab-df-convert {\n",
              "      background-color: #E8F0FE;\n",
              "      border: none;\n",
              "      border-radius: 50%;\n",
              "      cursor: pointer;\n",
              "      display: none;\n",
              "      fill: #1967D2;\n",
              "      height: 32px;\n",
              "      padding: 0 0 0 0;\n",
              "      width: 32px;\n",
              "    }\n",
              "\n",
              "    .colab-df-convert:hover {\n",
              "      background-color: #E2EBFA;\n",
              "      box-shadow: 0px 1px 2px rgba(60, 64, 67, 0.3), 0px 1px 3px 1px rgba(60, 64, 67, 0.15);\n",
              "      fill: #174EA6;\n",
              "    }\n",
              "\n",
              "    .colab-df-buttons div {\n",
              "      margin-bottom: 4px;\n",
              "    }\n",
              "\n",
              "    [theme=dark] .colab-df-convert {\n",
              "      background-color: #3B4455;\n",
              "      fill: #D2E3FC;\n",
              "    }\n",
              "\n",
              "    [theme=dark] .colab-df-convert:hover {\n",
              "      background-color: #434B5C;\n",
              "      box-shadow: 0px 1px 3px 1px rgba(0, 0, 0, 0.15);\n",
              "      filter: drop-shadow(0px 1px 2px rgba(0, 0, 0, 0.3));\n",
              "      fill: #FFFFFF;\n",
              "    }\n",
              "  </style>\n",
              "\n",
              "    <script>\n",
              "      const buttonEl =\n",
              "        document.querySelector('#df-74d5ec6c-6d9b-491f-84a1-c0176a9113b3 button.colab-df-convert');\n",
              "      buttonEl.style.display =\n",
              "        google.colab.kernel.accessAllowed ? 'block' : 'none';\n",
              "\n",
              "      async function convertToInteractive(key) {\n",
              "        const element = document.querySelector('#df-74d5ec6c-6d9b-491f-84a1-c0176a9113b3');\n",
              "        const dataTable =\n",
              "          await google.colab.kernel.invokeFunction('convertToInteractive',\n",
              "                                                    [key], {});\n",
              "        if (!dataTable) return;\n",
              "\n",
              "        const docLinkHtml = 'Like what you see? Visit the ' +\n",
              "          '<a target=\"_blank\" href=https://colab.research.google.com/notebooks/data_table.ipynb>data table notebook</a>'\n",
              "          + ' to learn more about interactive tables.';\n",
              "        element.innerHTML = '';\n",
              "        dataTable['output_type'] = 'display_data';\n",
              "        await google.colab.output.renderOutput(dataTable, element);\n",
              "        const docLink = document.createElement('div');\n",
              "        docLink.innerHTML = docLinkHtml;\n",
              "        element.appendChild(docLink);\n",
              "      }\n",
              "    </script>\n",
              "  </div>\n",
              "\n",
              "\n",
              "    <div id=\"df-30a3f873-9b75-4970-97bc-6102ae8b80b4\">\n",
              "      <button class=\"colab-df-quickchart\" onclick=\"quickchart('df-30a3f873-9b75-4970-97bc-6102ae8b80b4')\"\n",
              "                title=\"Suggest charts\"\n",
              "                style=\"display:none;\">\n",
              "\n",
              "<svg xmlns=\"http://www.w3.org/2000/svg\" height=\"24px\"viewBox=\"0 0 24 24\"\n",
              "     width=\"24px\">\n",
              "    <g>\n",
              "        <path d=\"M19 3H5c-1.1 0-2 .9-2 2v14c0 1.1.9 2 2 2h14c1.1 0 2-.9 2-2V5c0-1.1-.9-2-2-2zM9 17H7v-7h2v7zm4 0h-2V7h2v10zm4 0h-2v-4h2v4z\"/>\n",
              "    </g>\n",
              "</svg>\n",
              "      </button>\n",
              "\n",
              "<style>\n",
              "  .colab-df-quickchart {\n",
              "      --bg-color: #E8F0FE;\n",
              "      --fill-color: #1967D2;\n",
              "      --hover-bg-color: #E2EBFA;\n",
              "      --hover-fill-color: #174EA6;\n",
              "      --disabled-fill-color: #AAA;\n",
              "      --disabled-bg-color: #DDD;\n",
              "  }\n",
              "\n",
              "  [theme=dark] .colab-df-quickchart {\n",
              "      --bg-color: #3B4455;\n",
              "      --fill-color: #D2E3FC;\n",
              "      --hover-bg-color: #434B5C;\n",
              "      --hover-fill-color: #FFFFFF;\n",
              "      --disabled-bg-color: #3B4455;\n",
              "      --disabled-fill-color: #666;\n",
              "  }\n",
              "\n",
              "  .colab-df-quickchart {\n",
              "    background-color: var(--bg-color);\n",
              "    border: none;\n",
              "    border-radius: 50%;\n",
              "    cursor: pointer;\n",
              "    display: none;\n",
              "    fill: var(--fill-color);\n",
              "    height: 32px;\n",
              "    padding: 0;\n",
              "    width: 32px;\n",
              "  }\n",
              "\n",
              "  .colab-df-quickchart:hover {\n",
              "    background-color: var(--hover-bg-color);\n",
              "    box-shadow: 0 1px 2px rgba(60, 64, 67, 0.3), 0 1px 3px 1px rgba(60, 64, 67, 0.15);\n",
              "    fill: var(--button-hover-fill-color);\n",
              "  }\n",
              "\n",
              "  .colab-df-quickchart-complete:disabled,\n",
              "  .colab-df-quickchart-complete:disabled:hover {\n",
              "    background-color: var(--disabled-bg-color);\n",
              "    fill: var(--disabled-fill-color);\n",
              "    box-shadow: none;\n",
              "  }\n",
              "\n",
              "  .colab-df-spinner {\n",
              "    border: 2px solid var(--fill-color);\n",
              "    border-color: transparent;\n",
              "    border-bottom-color: var(--fill-color);\n",
              "    animation:\n",
              "      spin 1s steps(1) infinite;\n",
              "  }\n",
              "\n",
              "  @keyframes spin {\n",
              "    0% {\n",
              "      border-color: transparent;\n",
              "      border-bottom-color: var(--fill-color);\n",
              "      border-left-color: var(--fill-color);\n",
              "    }\n",
              "    20% {\n",
              "      border-color: transparent;\n",
              "      border-left-color: var(--fill-color);\n",
              "      border-top-color: var(--fill-color);\n",
              "    }\n",
              "    30% {\n",
              "      border-color: transparent;\n",
              "      border-left-color: var(--fill-color);\n",
              "      border-top-color: var(--fill-color);\n",
              "      border-right-color: var(--fill-color);\n",
              "    }\n",
              "    40% {\n",
              "      border-color: transparent;\n",
              "      border-right-color: var(--fill-color);\n",
              "      border-top-color: var(--fill-color);\n",
              "    }\n",
              "    60% {\n",
              "      border-color: transparent;\n",
              "      border-right-color: var(--fill-color);\n",
              "    }\n",
              "    80% {\n",
              "      border-color: transparent;\n",
              "      border-right-color: var(--fill-color);\n",
              "      border-bottom-color: var(--fill-color);\n",
              "    }\n",
              "    90% {\n",
              "      border-color: transparent;\n",
              "      border-bottom-color: var(--fill-color);\n",
              "    }\n",
              "  }\n",
              "</style>\n",
              "\n",
              "      <script>\n",
              "        async function quickchart(key) {\n",
              "          const quickchartButtonEl =\n",
              "            document.querySelector('#' + key + ' button');\n",
              "          quickchartButtonEl.disabled = true;  // To prevent multiple clicks.\n",
              "          quickchartButtonEl.classList.add('colab-df-spinner');\n",
              "          try {\n",
              "            const charts = await google.colab.kernel.invokeFunction(\n",
              "                'suggestCharts', [key], {});\n",
              "          } catch (error) {\n",
              "            console.error('Error during call to suggestCharts:', error);\n",
              "          }\n",
              "          quickchartButtonEl.classList.remove('colab-df-spinner');\n",
              "          quickchartButtonEl.classList.add('colab-df-quickchart-complete');\n",
              "        }\n",
              "        (() => {\n",
              "          let quickchartButtonEl =\n",
              "            document.querySelector('#df-30a3f873-9b75-4970-97bc-6102ae8b80b4 button');\n",
              "          quickchartButtonEl.style.display =\n",
              "            google.colab.kernel.accessAllowed ? 'block' : 'none';\n",
              "        })();\n",
              "      </script>\n",
              "    </div>\n",
              "\n",
              "  <div id=\"id_64628874-a4fa-4640-ae3f-54e9d00815b3\">\n",
              "    <style>\n",
              "      .colab-df-generate {\n",
              "        background-color: #E8F0FE;\n",
              "        border: none;\n",
              "        border-radius: 50%;\n",
              "        cursor: pointer;\n",
              "        display: none;\n",
              "        fill: #1967D2;\n",
              "        height: 32px;\n",
              "        padding: 0 0 0 0;\n",
              "        width: 32px;\n",
              "      }\n",
              "\n",
              "      .colab-df-generate:hover {\n",
              "        background-color: #E2EBFA;\n",
              "        box-shadow: 0px 1px 2px rgba(60, 64, 67, 0.3), 0px 1px 3px 1px rgba(60, 64, 67, 0.15);\n",
              "        fill: #174EA6;\n",
              "      }\n",
              "\n",
              "      [theme=dark] .colab-df-generate {\n",
              "        background-color: #3B4455;\n",
              "        fill: #D2E3FC;\n",
              "      }\n",
              "\n",
              "      [theme=dark] .colab-df-generate:hover {\n",
              "        background-color: #434B5C;\n",
              "        box-shadow: 0px 1px 3px 1px rgba(0, 0, 0, 0.15);\n",
              "        filter: drop-shadow(0px 1px 2px rgba(0, 0, 0, 0.3));\n",
              "        fill: #FFFFFF;\n",
              "      }\n",
              "    </style>\n",
              "    <button class=\"colab-df-generate\" onclick=\"generateWithVariable('results_df')\"\n",
              "            title=\"Generate code using this dataframe.\"\n",
              "            style=\"display:none;\">\n",
              "\n",
              "  <svg xmlns=\"http://www.w3.org/2000/svg\" height=\"24px\"viewBox=\"0 0 24 24\"\n",
              "       width=\"24px\">\n",
              "    <path d=\"M7,19H8.4L18.45,9,17,7.55,7,17.6ZM5,21V16.75L18.45,3.32a2,2,0,0,1,2.83,0l1.4,1.43a1.91,1.91,0,0,1,.58,1.4,1.91,1.91,0,0,1-.58,1.4L9.25,21ZM18.45,9,17,7.55Zm-12,3A5.31,5.31,0,0,0,4.9,8.1,5.31,5.31,0,0,0,1,6.5,5.31,5.31,0,0,0,4.9,4.9,5.31,5.31,0,0,0,6.5,1,5.31,5.31,0,0,0,8.1,4.9,5.31,5.31,0,0,0,12,6.5,5.46,5.46,0,0,0,6.5,12Z\"/>\n",
              "  </svg>\n",
              "    </button>\n",
              "    <script>\n",
              "      (() => {\n",
              "      const buttonEl =\n",
              "        document.querySelector('#id_64628874-a4fa-4640-ae3f-54e9d00815b3 button.colab-df-generate');\n",
              "      buttonEl.style.display =\n",
              "        google.colab.kernel.accessAllowed ? 'block' : 'none';\n",
              "\n",
              "      buttonEl.onclick = () => {\n",
              "        google.colab.notebook.generateWithVariable('results_df');\n",
              "      }\n",
              "      })();\n",
              "    </script>\n",
              "  </div>\n",
              "\n",
              "    </div>\n",
              "  </div>\n"
            ],
            "application/vnd.google.colaboratory.intrinsic+json": {
              "type": "dataframe",
              "variable_name": "results_df",
              "summary": "{\n  \"name\": \"results_df\",\n  \"rows\": 15,\n  \"fields\": [\n    {\n      \"column\": \"Model\",\n      \"properties\": {\n        \"dtype\": \"category\",\n        \"num_unique_values\": 3,\n        \"samples\": [\n          \"LogReg\",\n          \"RandomForest\",\n          \"LightGBM\"\n        ],\n        \"semantic_type\": \"\",\n        \"description\": \"\"\n      }\n    },\n    {\n      \"column\": \"k\",\n      \"properties\": {\n        \"dtype\": \"number\",\n        \"std\": 7,\n        \"min\": 5,\n        \"max\": 25,\n        \"num_unique_values\": 5,\n        \"samples\": [\n          10,\n          5,\n          20\n        ],\n        \"semantic_type\": \"\",\n        \"description\": \"\"\n      }\n    },\n    {\n      \"column\": \"roc_auc\",\n      \"properties\": {\n        \"dtype\": \"number\",\n        \"std\": 0.026765927592188373,\n        \"min\": 0.7512140811773714,\n        \"max\": 0.8459639634497291,\n        \"num_unique_values\": 15,\n        \"samples\": [\n          0.8079975717187284,\n          0.8023519366791767,\n          0.8459639634497291\n        ],\n        \"semantic_type\": \"\",\n        \"description\": \"\"\n      }\n    },\n    {\n      \"column\": \"f1\",\n      \"properties\": {\n        \"dtype\": \"number\",\n        \"std\": 0.07760128563700282,\n        \"min\": 0.158418003910413,\n        \"max\": 0.39196660161069274,\n        \"num_unique_values\": 15,\n        \"samples\": [\n          0.29879852178799043,\n          0.2922967032967033,\n          0.39196660161069274\n        ],\n        \"semantic_type\": \"\",\n        \"description\": \"\"\n      }\n    },\n    {\n      \"column\": \"recall_pos\",\n      \"properties\": {\n        \"dtype\": \"number\",\n        \"std\": 0.2957761504320143,\n        \"min\": 0.11146322378716744,\n        \"max\": 0.7884194053208139,\n        \"num_unique_values\": 15,\n        \"samples\": [\n          0.22566510172143978,\n          0.20895931142410012,\n          0.7827856025039124\n        ],\n        \"semantic_type\": \"\",\n        \"description\": \"\"\n      }\n    }\n  ]\n}"
            }
          },
          "metadata": {}
        }
      ]
    },
    {
      "cell_type": "markdown",
      "source": [
        "Use L1-penalized logistic to select"
      ],
      "metadata": {
        "id": "C52PgPjX93mE"
      }
    },
    {
      "cell_type": "code",
      "source": [
        "from sklearn.feature_selection import SelectFromModel\n",
        "\n",
        "l1_selector = Pipeline([\n",
        "    (\"imputer\", SimpleImputer(strategy=\"median\")),\n",
        "    (\"scaler\", StandardScaler()),\n",
        "    (\"l1\", SelectFromModel(LogisticRegression(penalty=\"l1\", solver=\"saga\", C=1.0, max_iter=2000, random_state=42)))\n",
        "])\n",
        "\n",
        "l1_selector.fit(X_train, y_train)\n",
        "mask = l1_selector.named_steps['l1'].get_support()\n",
        "selected_features_l1 = X_train.columns[mask]\n",
        "print(\"Selected by L1:\", selected_features_l1.tolist())"
      ],
      "metadata": {
        "colab": {
          "base_uri": "https://localhost:8080/"
        },
        "id": "5oS8xcnwpRj0",
        "outputId": "743ff13a-89bf-46bd-a58f-8a1629023fab"
      },
      "execution_count": 15,
      "outputs": [
        {
          "output_type": "stream",
          "name": "stdout",
          "text": [
            "Selected by L1: ['GENDER', 'AGE_YEARS', 'BODY_MASS_INDEX', 'HEIGHT', 'WEIGHT', 'CHOLESTEROL', 'CREATININE', 'TRIGLYCERIDES_R', 'LDL', 'TRIGLYCERIDE', 'HDL', 'HYPERTENSION', 'HIGH_CHOLESTEROL', 'HEART_ATTACK_RELATIVES', 'LDL_to_HDL_ratio', 'Triglyceride_HDL_ratio', 'Metabolic_risk_score', 'log_TRIGLYCERIDE', 'log_LDL_to_HDL_ratio', 'BMI_squared', 'Age_BMI_interaction', 'LDL_trig_interaction', 'Creatinine_age_ratio']\n"
          ]
        }
      ]
    },
    {
      "cell_type": "markdown",
      "source": [
        "Train a RF on full features first (with imputation/scaling pipeline)"
      ],
      "metadata": {
        "id": "vI5GqdNH9-HN"
      }
    },
    {
      "cell_type": "code",
      "source": [
        "from sklearn.inspection import permutation_importance\n",
        "\n",
        "pipe_full = Pipeline([\n",
        "    (\"imputer\", SimpleImputer(strategy=\"median\")),\n",
        "    (\"scaler\", StandardScaler()),\n",
        "    (\"clf\", RandomForestClassifier(n_estimators=300, random_state=42))\n",
        "])\n",
        "pipe_full.fit(X_train, y_train)\n",
        "\n",
        "perm = permutation_importance(pipe_full, X_train, y_train, n_repeats=10, random_state=42, n_jobs=-1)\n",
        "imp_df = pd.DataFrame({\"feature\": X_train.columns, \"importance\": perm.importances_mean})\n",
        "imp_df = imp_df.sort_values(\"importance\", ascending=False)\n",
        "print(imp_df.head(30))"
      ],
      "metadata": {
        "colab": {
          "base_uri": "https://localhost:8080/"
        },
        "id": "GYZevdYZpVTn",
        "outputId": "8306d510-3870-4a8c-9657-126708faf1be"
      },
      "execution_count": 16,
      "outputs": [
        {
          "output_type": "stream",
          "name": "stdout",
          "text": [
            "                   feature  importance\n",
            "1                AGE_YEARS    0.042806\n",
            "22     Age_BMI_interaction    0.025377\n",
            "12            HYPERTENSION    0.016662\n",
            "7               CREATININE    0.015347\n",
            "18    Metabolic_risk_score    0.014250\n",
            "13        HIGH_CHOLESTEROL    0.013182\n",
            "24    Creatinine_age_ratio    0.008112\n",
            "14  HEART_ATTACK_RELATIVES    0.006961\n",
            "6              CHOLESTEROL    0.005536\n",
            "9                      LDL    0.004330\n",
            "3                   HEIGHT    0.002686\n",
            "21             BMI_squared    0.002247\n",
            "4                   WEIGHT    0.002220\n",
            "5               TOTAL_CHOL    0.001973\n",
            "2          BODY_MASS_INDEX    0.001836\n",
            "8          TRIGLYCERIDES_R    0.001836\n",
            "11                     HDL    0.001507\n",
            "19        log_TRIGLYCERIDE    0.000822\n",
            "15        LDL_to_HDL_ratio    0.000795\n",
            "17  Triglyceride_HDL_ratio    0.000493\n",
            "16          Chol_HDL_ratio    0.000493\n",
            "20    log_LDL_to_HDL_ratio    0.000438\n",
            "23    LDL_trig_interaction    0.000137\n",
            "0                   GENDER    0.000000\n",
            "10            TRIGLYCERIDE    0.000000\n"
          ]
        }
      ]
    },
    {
      "cell_type": "markdown",
      "source": [
        "### Feature Selection k=15"
      ],
      "metadata": {
        "id": "0aMpXGbwB3ka"
      }
    },
    {
      "cell_type": "code",
      "source": [
        "top15_features = [\n",
        "    'AGE_YEARS',\n",
        "    'Age_BMI_interaction',\n",
        "    'HYPERTENSION',\n",
        "    'CREATININE',\n",
        "    'Metabolic_risk_score',\n",
        "    'HIGH_CHOLESTEROL',\n",
        "    'Creatinine_age_ratio',\n",
        "    'HEART_ATTACK_RELATIVES',\n",
        "    'CHOLESTEROL',\n",
        "    'LDL',\n",
        "    'HEIGHT',\n",
        "    'BMI_squared',\n",
        "    'WEIGHT',\n",
        "    'TOTAL_CHOL',\n",
        "    'BODY_MASS_INDEX'\n",
        "]"
      ],
      "metadata": {
        "id": "VTvkPhkIB1Uf"
      },
      "execution_count": 18,
      "outputs": []
    },
    {
      "cell_type": "code",
      "source": [
        "X_train_k15 = X_train[top15_features].copy()\n",
        "X_val_k15 = X_val[top15_features].copy()\n",
        "X_test_k15 = X_test[top15_features].copy()"
      ],
      "metadata": {
        "id": "b1xf3ZC1B7SL"
      },
      "execution_count": 19,
      "outputs": []
    },
    {
      "cell_type": "markdown",
      "source": [
        "### Undersampling of class 0  "
      ],
      "metadata": {
        "id": "0ktsjFxXGBR7"
      }
    },
    {
      "cell_type": "markdown",
      "source": [
        "Original distribution & actual ratio"
      ],
      "metadata": {
        "id": "NA63PXXvGKsy"
      }
    },
    {
      "cell_type": "code",
      "source": [
        "import numpy as np\n",
        "\n",
        "unique, counts = np.unique(y_train, return_counts=True)\n",
        "print(dict(zip(unique, counts)))\n",
        "\n",
        "minority_count = counts[1]\n",
        "majority_target = int(minority_count * (70 / 30))  # 70/30 ratio\n",
        "print(f\"Goal: {majority_target} in class 0.\")"
      ],
      "metadata": {
        "colab": {
          "base_uri": "https://localhost:8080/"
        },
        "id": "Q8QthM1xFwU0",
        "outputId": "c7973031-684c-4ccc-b5db-99410b1f0c03"
      },
      "execution_count": 25,
      "outputs": [
        {
          "output_type": "stream",
          "name": "stdout",
          "text": [
            "{np.int64(0): np.int64(3290), np.int64(1): np.int64(359)}\n",
            "Goal: 837 in class 0.\n"
          ]
        }
      ]
    },
    {
      "cell_type": "markdown",
      "source": [
        "Maintain 30% of min class (class 1)"
      ],
      "metadata": {
        "id": "1l8vC_J8Gc2y"
      }
    },
    {
      "cell_type": "code",
      "source": [
        "from imblearn.under_sampling import RandomUnderSampler\n",
        "\n",
        "sampling_strategy = {0: majority_target, 1: minority_count}\n",
        "\n",
        "rus = RandomUnderSampler(sampling_strategy=sampling_strategy, random_state=42)\n",
        "\n",
        "X_train_res, y_train_res = rus.fit_resample(X_train_k15, y_train)\n",
        "\n",
        "print(\"Original distribution:\", dict(zip(unique, counts)))\n",
        "print(\"Distribution after undersampling:\", dict(zip(*np.unique(y_train_res, return_counts=True))))"
      ],
      "metadata": {
        "colab": {
          "base_uri": "https://localhost:8080/"
        },
        "id": "QAxpPqfaF43r",
        "outputId": "599e8150-ee6b-4357-d2f1-8d7785a742a1"
      },
      "execution_count": 26,
      "outputs": [
        {
          "output_type": "stream",
          "name": "stdout",
          "text": [
            "Original distribution: {np.int64(0): np.int64(3290), np.int64(1): np.int64(359)}\n",
            "Distribution after undersampling: {np.int64(0): np.int64(837), np.int64(1): np.int64(359)}\n"
          ]
        }
      ]
    },
    {
      "cell_type": "markdown",
      "source": [
        "#### Save preprocessed datasets"
      ],
      "metadata": {
        "id": "hotqCurunuxV"
      }
    },
    {
      "cell_type": "markdown",
      "source": [
        "Save datasets"
      ],
      "metadata": {
        "id": "_8UO3HvwoxBc"
      }
    },
    {
      "cell_type": "code",
      "source": [
        "output_path = \"/content/drive/MyDrive/cellia_drive/Datasets/\"\n",
        "\n",
        "X_train_res.to_csv(output_path + \"X_train.csv\", index=False)\n",
        "y_train_res.to_csv(output_path + \"y_train.csv\", index=False)\n",
        "\n",
        "X_val_k15.to_csv(output_path + \"X_val.csv\", index=False)\n",
        "y_val.to_csv(output_path + \"y_val.csv\", index=False)\n",
        "\n",
        "X_test_k15.to_csv(output_path + \"X_test.csv\", index=False)\n",
        "y_test.to_csv(output_path + \"y_test.csv\", index=False)"
      ],
      "metadata": {
        "id": "7Of6MTiIo0I4"
      },
      "execution_count": 27,
      "outputs": []
    },
    {
      "cell_type": "code",
      "source": [
        "print(\"✅ Files saved:\")\n",
        "print(f\"   - {output_path}X_train_res.csv\")\n",
        "print(f\"   - {output_path}y_train_res.csv\")\n",
        "print(f\"   - {output_path}X_val.csv\")\n",
        "print(f\"   - {output_path}y_val.csv\")\n",
        "print(f\"   - {output_path}X_test.csv\")\n",
        "print(f\"   - {output_path}y_test.csv\")"
      ],
      "metadata": {
        "colab": {
          "base_uri": "https://localhost:8080/"
        },
        "id": "j5iHn3Eko6UI",
        "outputId": "cdf72c36-78d3-4b45-8bca-4024e5a36886"
      },
      "execution_count": 28,
      "outputs": [
        {
          "output_type": "stream",
          "name": "stdout",
          "text": [
            "✅ Files saved:\n",
            "   - /content/drive/MyDrive/cellia_drive/Datasets/X_train_res.csv\n",
            "   - /content/drive/MyDrive/cellia_drive/Datasets/y_train_res.csv\n",
            "   - /content/drive/MyDrive/cellia_drive/Datasets/X_val.csv\n",
            "   - /content/drive/MyDrive/cellia_drive/Datasets/y_val.csv\n",
            "   - /content/drive/MyDrive/cellia_drive/Datasets/X_test.csv\n",
            "   - /content/drive/MyDrive/cellia_drive/Datasets/y_test.csv\n"
          ]
        }
      ]
    }
  ]
}